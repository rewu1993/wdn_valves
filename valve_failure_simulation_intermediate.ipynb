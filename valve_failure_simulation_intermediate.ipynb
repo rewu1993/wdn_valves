{
 "cells": [
  {
   "cell_type": "code",
   "execution_count": 1,
   "metadata": {},
   "outputs": [],
   "source": [
    "import numpy as np\n",
    "from scripts.mesh import *\n",
    "from scripts.simulation import *\n",
    "\n",
    "import matplotlib\n",
    "import matplotlib.pyplot as plt"
   ]
  },
  {
   "cell_type": "markdown",
   "metadata": {},
   "source": [
    "# Construct the mesh to work on (topology)"
   ]
  },
  {
   "cell_type": "code",
   "execution_count": 2,
   "metadata": {},
   "outputs": [
    {
     "name": "stdout",
     "output_type": "stream",
     "text": [
      "{'grid_size': 10, 'contraction_ratio': 0.0, 'degree_settings': {2: 1, 3: 0.85, 4: 0.75, 5: 1, 6: 1}}\n"
     ]
    }
   ],
   "source": [
    "mesh_degree_settings = MESH_DEGREE_SETTINGS\n",
    "mesh_settings = MESH_SETTINGS\n",
    "\n",
    "mesh_degree_settings[4] = 0.75\n",
    "mesh_degree_settings[3] = 0.85\n",
    "# mesh_degree_settings[2] = 0.97\n",
    "\n",
    "print (mesh_settings)"
   ]
  },
  {
   "cell_type": "code",
   "execution_count": 3,
   "metadata": {},
   "outputs": [],
   "source": [
    "# mesh = create_mesh(mesh_settings)\n",
    "# sparseness = calculate_sparseness(mesh)\n",
    "# print (f'sparseness of the created mesh (compare to the grid network) {sparseness}')"
   ]
  },
  {
   "cell_type": "markdown",
   "metadata": {},
   "source": [
    "# Valve failure simulation"
   ]
  },
  {
   "cell_type": "markdown",
   "metadata": {},
   "source": [
    "## Single repair scenario "
   ]
  },
  {
   "cell_type": "code",
   "execution_count": 4,
   "metadata": {},
   "outputs": [],
   "source": [
    "vfail_rate = 0.5\n",
    "mc_num = 100\n",
    "grid_size = mesh_settings['grid_size']\n",
    "pids2sim = list(range((grid_size-1)*2*grid_size))"
   ]
  },
  {
   "cell_type": "code",
   "execution_count": 5,
   "metadata": {},
   "outputs": [
    {
     "name": "stdout",
     "output_type": "stream",
     "text": [
      "sparseness of the created mesh (compare to the grid network) 0.7160493827160493\n",
      "sparseness of the created mesh (compare to the grid network) 0.7777777777777778\n",
      "sparseness of the created mesh (compare to the grid network) 0.8395061728395061\n",
      "sparseness of the created mesh (compare to the grid network) 0.654320987654321\n",
      "sparseness of the created mesh (compare to the grid network) 0.7160493827160493\n",
      "sparseness of the created mesh (compare to the grid network) 0.7654320987654321\n",
      "sparseness of the created mesh (compare to the grid network) 0.8024691358024691\n",
      "sparseness of the created mesh (compare to the grid network) 0.7407407407407407\n",
      "sparseness of the created mesh (compare to the grid network) 0.7160493827160493\n",
      "sparseness of the created mesh (compare to the grid network) 0.8148148148148148\n",
      "sparseness of the created mesh (compare to the grid network) 0.7654320987654321\n",
      "sparseness of the created mesh (compare to the grid network) 0.7037037037037037\n",
      "sparseness of the created mesh (compare to the grid network) 0.7530864197530864\n",
      "sparseness of the created mesh (compare to the grid network) 0.8148148148148148\n",
      "sparseness of the created mesh (compare to the grid network) 0.7037037037037037\n",
      "sparseness of the created mesh (compare to the grid network) 0.7407407407407407\n",
      "sparseness of the created mesh (compare to the grid network) 0.7654320987654321\n",
      "sparseness of the created mesh (compare to the grid network) 0.8271604938271605\n",
      "sparseness of the created mesh (compare to the grid network) 0.7037037037037037\n",
      "sparseness of the created mesh (compare to the grid network) 0.7530864197530864\n",
      "sparseness of the created mesh (compare to the grid network) 0.691358024691358\n",
      "sparseness of the created mesh (compare to the grid network) 0.7407407407407407\n",
      "sparseness of the created mesh (compare to the grid network) 0.7160493827160493\n",
      "sparseness of the created mesh (compare to the grid network) 0.7160493827160493\n",
      "sparseness of the created mesh (compare to the grid network) 0.7654320987654321\n",
      "sparseness of the created mesh (compare to the grid network) 0.8271604938271605\n",
      "sparseness of the created mesh (compare to the grid network) 0.7530864197530864\n",
      "sparseness of the created mesh (compare to the grid network) 0.6666666666666666\n",
      "sparseness of the created mesh (compare to the grid network) 0.6790123456790124\n",
      "sparseness of the created mesh (compare to the grid network) 0.7530864197530864\n",
      "sparseness of the created mesh (compare to the grid network) 0.8024691358024691\n",
      "sparseness of the created mesh (compare to the grid network) 0.7654320987654321\n",
      "sparseness of the created mesh (compare to the grid network) 0.7160493827160493\n",
      "sparseness of the created mesh (compare to the grid network) 0.7160493827160493\n",
      "sparseness of the created mesh (compare to the grid network) 0.7407407407407407\n",
      "sparseness of the created mesh (compare to the grid network) 0.8148148148148148\n",
      "sparseness of the created mesh (compare to the grid network) 0.8148148148148148\n",
      "sparseness of the created mesh (compare to the grid network) 0.7160493827160493\n",
      "sparseness of the created mesh (compare to the grid network) 0.7777777777777778\n",
      "sparseness of the created mesh (compare to the grid network) 0.7777777777777778\n",
      "sparseness of the created mesh (compare to the grid network) 0.8024691358024691\n",
      "sparseness of the created mesh (compare to the grid network) 0.7777777777777778\n",
      "sparseness of the created mesh (compare to the grid network) 0.7777777777777778\n",
      "sparseness of the created mesh (compare to the grid network) 0.691358024691358\n",
      "sparseness of the created mesh (compare to the grid network) 0.7283950617283951\n",
      "sparseness of the created mesh (compare to the grid network) 0.7283950617283951\n",
      "sparseness of the created mesh (compare to the grid network) 0.7407407407407407\n",
      "sparseness of the created mesh (compare to the grid network) 0.7160493827160493\n",
      "sparseness of the created mesh (compare to the grid network) 0.7654320987654321\n",
      "sparseness of the created mesh (compare to the grid network) 0.7777777777777778\n",
      "sparseness of the created mesh (compare to the grid network) 0.7777777777777778\n",
      "sparseness of the created mesh (compare to the grid network) 0.7283950617283951\n",
      "sparseness of the created mesh (compare to the grid network) 0.7901234567901234\n",
      "sparseness of the created mesh (compare to the grid network) 0.7654320987654321\n",
      "sparseness of the created mesh (compare to the grid network) 0.7037037037037037\n",
      "sparseness of the created mesh (compare to the grid network) 0.7160493827160493\n",
      "sparseness of the created mesh (compare to the grid network) 0.7283950617283951\n",
      "sparseness of the created mesh (compare to the grid network) 0.7530864197530864\n",
      "sparseness of the created mesh (compare to the grid network) 0.8271604938271605\n",
      "sparseness of the created mesh (compare to the grid network) 0.8148148148148148\n",
      "sparseness of the created mesh (compare to the grid network) 0.6666666666666666\n",
      "sparseness of the created mesh (compare to the grid network) 0.7160493827160493\n",
      "sparseness of the created mesh (compare to the grid network) 0.8024691358024691\n",
      "sparseness of the created mesh (compare to the grid network) 0.8271604938271605\n",
      "sparseness of the created mesh (compare to the grid network) 0.8271604938271605\n",
      "sparseness of the created mesh (compare to the grid network) 0.654320987654321\n",
      "sparseness of the created mesh (compare to the grid network) 0.7654320987654321\n",
      "sparseness of the created mesh (compare to the grid network) 0.7777777777777778\n",
      "sparseness of the created mesh (compare to the grid network) 0.7160493827160493\n",
      "sparseness of the created mesh (compare to the grid network) 0.7407407407407407\n",
      "sparseness of the created mesh (compare to the grid network) 0.7160493827160493\n",
      "sparseness of the created mesh (compare to the grid network) 0.8024691358024691\n",
      "sparseness of the created mesh (compare to the grid network) 0.7777777777777778\n",
      "sparseness of the created mesh (compare to the grid network) 0.7530864197530864\n",
      "sparseness of the created mesh (compare to the grid network) 0.8024691358024691\n",
      "sparseness of the created mesh (compare to the grid network) 0.7407407407407407\n",
      "sparseness of the created mesh (compare to the grid network) 0.8024691358024691\n",
      "sparseness of the created mesh (compare to the grid network) 0.7777777777777778\n",
      "sparseness of the created mesh (compare to the grid network) 0.6790123456790124\n",
      "sparseness of the created mesh (compare to the grid network) 0.7777777777777778\n",
      "sparseness of the created mesh (compare to the grid network) 0.7283950617283951\n",
      "sparseness of the created mesh (compare to the grid network) 0.7407407407407407\n",
      "sparseness of the created mesh (compare to the grid network) 0.8024691358024691\n",
      "sparseness of the created mesh (compare to the grid network) 0.7530864197530864\n",
      "sparseness of the created mesh (compare to the grid network) 0.7407407407407407\n",
      "sparseness of the created mesh (compare to the grid network) 0.7777777777777778\n",
      "sparseness of the created mesh (compare to the grid network) 0.7530864197530864\n",
      "sparseness of the created mesh (compare to the grid network) 0.8395061728395061\n",
      "sparseness of the created mesh (compare to the grid network) 0.7283950617283951\n",
      "sparseness of the created mesh (compare to the grid network) 0.8148148148148148\n",
      "sparseness of the created mesh (compare to the grid network) 0.7901234567901234\n",
      "sparseness of the created mesh (compare to the grid network) 0.7777777777777778\n",
      "sparseness of the created mesh (compare to the grid network) 0.7160493827160493\n",
      "sparseness of the created mesh (compare to the grid network) 0.7901234567901234\n",
      "sparseness of the created mesh (compare to the grid network) 0.7407407407407407\n",
      "sparseness of the created mesh (compare to the grid network) 0.7530864197530864\n",
      "sparseness of the created mesh (compare to the grid network) 0.7530864197530864\n",
      "sparseness of the created mesh (compare to the grid network) 0.6666666666666666\n",
      "sparseness of the created mesh (compare to the grid network) 0.7654320987654321\n",
      "sparseness of the created mesh (compare to the grid network) 0.6790123456790124\n"
     ]
    }
   ],
   "source": [
    "direct_sum, unintend_sum = np.zeros(len(pids2sim)), np.zeros(len(pids2sim))\n",
    "num_sim = 0\n",
    "sim_count = np.zeros(len(pids2sim))\n",
    "\n",
    "\n",
    "while num_sim < mc_num:\n",
    "    try:\n",
    "        mesh = create_mesh(mesh_settings)\n",
    "        sparseness = calculate_sparseness(mesh)\n",
    "        print (f'sparseness of the created mesh (compare to the grid network) {sparseness}')\n",
    "    except:\n",
    "        continue\n",
    "    # Single repair scenario\n",
    "    direct,unintend = mc_single_iso_consequence(mesh,vfail_rate,pids2sim)\n",
    "    direct_ratio = direct/len(mesh.valid_pids)\n",
    "    unintend_ratio = unintend/len(mesh.valid_pids)\n",
    "    \n",
    "    valid_pid_mask = np.zeros(len(pids2sim))\n",
    "    valid_pid_mask[list(mesh.valid_pids)] = 1\n",
    "    sim_count += valid_pid_mask\n",
    "\n",
    "    direct_sum += direct_ratio*valid_pid_mask\n",
    "    unintend_sum += unintend_ratio*valid_pid_mask\n",
    "    \n",
    "    num_sim+=1\n",
    "    \n",
    "ave_direct = direct_sum/sim_count\n",
    "ave_unintend = unintend_sum/sim_count"
   ]
  },
  {
   "cell_type": "code",
   "execution_count": 6,
   "metadata": {},
   "outputs": [],
   "source": [
    "def plot_single_iso_consequence(pids2sim,direct_ratio,unintend_ratio):\n",
    "    plt.bar(pids2sim, direct_ratio, label=\"direct\")\n",
    "    plt.bar(pids2sim, unintend_ratio, label=\"unintend\")\n",
    "#     plt.bar(pids2sim, direct_ratio+unintend_ratio, label=\"tot\")\n",
    "    \n",
    "    plt.xlabel('pid')\n",
    "    plt.ylabel('Avg impact ratio')\n",
    "    plt.legend()\n",
    "    plt.show()\n",
    "    "
   ]
  },
  {
   "cell_type": "code",
   "execution_count": 7,
   "metadata": {},
   "outputs": [
    {
     "data": {
      "image/png": "[encoded data removed]",
      "text/plain": [
       "<Figure size 432x288 with 1 Axes>"
      ]
     },
     "metadata": {
      "needs_background": "light"
     },
     "output_type": "display_data"
    }
   ],
   "source": [
    "plot_single_iso_consequence(pids2sim,ave_direct,ave_unintend)"
   ]
  },
  {
   "cell_type": "code",
   "execution_count": 16,
   "metadata": {},
   "outputs": [
    {
     "data": {
      "text/plain": [
       "array([2.42676381e-01, 1.39682312e-02, 7.84208358e-04, 1.00468510e-04,\n",
       "       3.13395018e-06, 1.32053697e-05, 5.77434300e-05, 1.13772138e-04,\n",
       "       5.56409423e-05, 4.31094231e-02, 2.13817609e-03, 1.01255953e-04,\n",
       "       7.43204502e-06, 6.17128321e-06, 1.20905111e-05, 5.67923303e-05,\n",
       "       1.25407741e-04, 7.22156331e-05, 3.01183397e-03, 6.79493626e-04,\n",
       "       1.03862994e-04, 4.31720064e-06, 5.00249909e-06, 2.54100147e-06,\n",
       "       1.27148147e-05, 6.95813228e-05, 5.60645646e-05, 4.06261595e-03,\n",
       "       1.01056562e-05, 4.95394369e-06, 5.02513302e-06, 6.92963696e-06,\n",
       "       6.39600326e-06, 1.31164124e-05, 7.33731107e-05, 5.09090293e-05,\n",
       "       2.86425016e-04, 1.04890832e-04, 9.99970153e-06, 7.51416631e-06,\n",
       "       8.14340871e-06, 9.50915353e-06, 1.06528785e-05, 7.58252292e-05,\n",
       "       4.84979198e-05, 4.09987770e-06, 8.71035701e-06, 8.09228937e-06,\n",
       "       6.86833773e-06, 6.18277790e-06, 5.59044916e-06, 1.94041365e-05,\n",
       "       5.49929726e-05, 5.87794948e-05, 1.00594325e-05, 8.79343625e-06,\n",
       "       8.17266135e-06, 5.04200592e-06, 6.26131723e-06, 9.48464749e-06,\n",
       "       1.24263903e-05, 4.96272187e-05, 4.57454077e-05, 6.71449997e-06,\n",
       "       1.69853886e-05, 1.38470704e-05, 5.03754283e-06, 4.36767742e-06,\n",
       "       6.98924093e-06, 1.83619821e-05, 6.21550517e-05, 4.84087654e-05,\n",
       "       2.24591930e-05, 1.01065667e-05, 7.53276896e-06, 6.84879566e-06,\n",
       "       1.23498617e-05, 3.51883472e-05, 7.91524781e-05, 1.27064836e-04,\n",
       "       6.81755232e-05, 3.07186723e-06, 6.15830851e-06, 6.32911392e-07,\n",
       "       1.87543961e-06, 3.08030261e-06, 6.06060606e-07, 5.55954490e-05,\n",
       "       1.02129541e-04, 5.27383005e-05, 3.13271905e-01, 4.29157676e-02,\n",
       "       1.18418415e-02, 3.10883771e-03, 3.83894861e-04, 1.22334456e-06,\n",
       "       3.08684328e-06, 4.37373117e-06, 6.41025641e-07, 1.66907978e-02,\n",
       "       3.29760977e-03, 2.51969505e-04, 1.94768704e-04, 7.90195273e-06,\n",
       "       7.49632941e-06, 6.01667343e-06, 9.41128759e-06, 2.98530953e-05,\n",
       "       6.09484188e-04, 5.12425458e-04, 1.16986794e-05, 1.79094289e-05,\n",
       "       7.49463597e-06, 1.36460637e-05, 1.34578211e-05, 2.50567453e-05,\n",
       "       3.03683431e-06, 1.43206823e-04, 6.66640126e-06, 3.96298214e-06,\n",
       "       6.37567894e-06, 6.73267598e-06, 7.02530004e-06, 9.40414159e-06,\n",
       "       7.32917400e-06, 2.92120752e-06, 6.70547891e-06, 5.07369560e-06,\n",
       "       6.43356704e-06, 9.02377208e-06, 9.52746891e-06, 6.65476259e-06,\n",
       "       8.26231779e-06, 6.96689104e-06, 4.06708964e-06, 1.05825826e-05,\n",
       "       8.58208988e-06, 8.29687670e-06, 7.10938584e-06, 8.02033085e-06,\n",
       "       2.11588127e-06, 7.51838394e-06, 1.26580945e-05, 2.31241260e-05,\n",
       "       5.84798828e-05, 1.44461236e-05, 4.76827972e-06, 6.81740859e-06,\n",
       "       1.17307231e-05, 9.52111122e-06, 6.92878391e-06, 4.61375066e-06,\n",
       "       2.63692017e-05, 2.67462825e-04, 7.08118062e-05, 1.26792222e-05,\n",
       "       2.07438175e-05, 2.65309371e-05, 1.15455058e-05, 2.18047267e-05,\n",
       "       7.98174439e-05, 2.95533191e-04, 5.70487664e-04, 1.71809462e-04,\n",
       "       2.73186135e-04, 1.36033170e-04, 2.87835116e-04, 8.74590362e-05,\n",
       "       2.55211413e-04, 1.41123844e-04, 5.84333820e-04, 7.48774151e-06,\n",
       "       1.97207015e-05, 6.83984005e-06, 4.13312279e-06, 9.32592789e-06,\n",
       "       1.52786152e-05, 6.92096530e-06, 1.61887146e-05, 5.08380641e-06])"
      ]
     },
     "execution_count": 16,
     "metadata": {},
     "output_type": "execute_result"
    }
   ],
   "source": [
    "ave_unintend"
   ]
  },
  {
   "cell_type": "markdown",
   "metadata": {},
   "source": [
    "## Multiple isolation scenario "
   ]
  },
  {
   "cell_type": "code",
   "execution_count": null,
   "metadata": {},
   "outputs": [],
   "source": [
    "def multi_fail_simulation(mesh,fail_rates, degree_list):\n",
    "    fail_results = []\n",
    "    for fail_rate in fail_rates:\n",
    "        print (f'Start simulating valve fail rate {fail_rate}')\n",
    "        degree_result = []\n",
    "        for degree in degree_list:\n",
    "            results = mc_degree_impact(mesh,fail_rate,degree,mesh.valid_pids)\n",
    "            degree_result.append(results)\n",
    "        fail_results.append(degree_result)\n",
    "    return fail_results"
   ]
  },
  {
   "cell_type": "code",
   "execution_count": null,
   "metadata": {},
   "outputs": [],
   "source": [
    "fail_rates = np.linspace(0,0.8,4)\n",
    "degree_list = list(range(1,15,2))\n",
    "mc_num = 100"
   ]
  },
  {
   "cell_type": "code",
   "execution_count": null,
   "metadata": {},
   "outputs": [],
   "source": [
    "mc_results = []\n",
    "num_sim = 0\n",
    "while num_sim < mc_num:\n",
    "    try:\n",
    "        mesh = create_mesh(mesh_settings)\n",
    "        sparseness = calculate_sparseness(mesh)\n",
    "        print (f'sparseness of the created mesh (compare to the grid network) {sparseness}')\n",
    "    except:\n",
    "        continue\n",
    "    mc_results.append(multi_fail_simulation(mesh,fail_rates,degree_list)) \n",
    "    num_sim+=1"
   ]
  },
  {
   "cell_type": "code",
   "execution_count": 9,
   "metadata": {},
   "outputs": [
    {
     "ename": "NameError",
     "evalue": "name 'mc_results' is not defined",
     "output_type": "error",
     "traceback": [
      "\u001b[0;31m---------------------------------------------------------------------------\u001b[0m",
      "\u001b[0;31mNameError\u001b[0m                                 Traceback (most recent call last)",
      "\u001b[0;32m<ipython-input-9-90034db8900a>\u001b[0m in \u001b[0;36m<module>\u001b[0;34m\u001b[0m\n\u001b[0;32m----> 1\u001b[0;31m \u001b[0mlen\u001b[0m\u001b[0;34m(\u001b[0m\u001b[0mmc_results\u001b[0m\u001b[0;34m)\u001b[0m\u001b[0;34m\u001b[0m\u001b[0;34m\u001b[0m\u001b[0m\n\u001b[0m",
      "\u001b[0;31mNameError\u001b[0m: name 'mc_results' is not defined"
     ]
    }
   ],
   "source": [
    "len(mc_results)"
   ]
  },
  {
   "cell_type": "code",
   "execution_count": null,
   "metadata": {},
   "outputs": [],
   "source": [
    "parsed_results = [parse_directs_unintends(result) for result in results]"
   ]
  },
  {
   "cell_type": "code",
   "execution_count": null,
   "metadata": {},
   "outputs": [],
   "source": [
    "def plot_multi_iso_consequence(parsed_results,degree_list,fail_rates):\n",
    "    for i, fail_rate in enumerate(fail_rates):\n",
    "        fig = plt.figure()\n",
    "        direct, unintend = np.array(parsed_results[i][0]),np.array(parsed_results[i][1])\n",
    "        tot = (direct+unintend) /len(mesh.valid_pids)\n",
    "        plt.plot(degree_list, direct/len(mesh.valid_pids), label=\"direct\")\n",
    "        plt.plot(degree_list, unintend/len(mesh.valid_pids), label=\"unintend\")\n",
    "        plt.plot(degree_list, tot, label=\"tot\")\n",
    "\n",
    "        plt.xlabel('num of pipes to fix')\n",
    "        plt.ylabel('# of components')\n",
    "        plt.title(f'valve fail rate: {fail_rate}')\n",
    "        plt.legend()\n",
    "    "
   ]
  },
  {
   "cell_type": "code",
   "execution_count": null,
   "metadata": {},
   "outputs": [],
   "source": [
    "plot_multi_iso_consequence(parsed_results,degree_list,fail_rates)"
   ]
  },
  {
   "cell_type": "code",
   "execution_count": null,
   "metadata": {},
   "outputs": [],
   "source": []
  }
 ],
 "metadata": {
  "kernelspec": {
   "display_name": "Python 3",
   "language": "python",
   "name": "python3"
  },
  "language_info": {
   "codemirror_mode": {
    "name": "ipython",
    "version": 3
   },
   "file_extension": ".py",
   "mimetype": "text/x-python",
   "name": "python",
   "nbconvert_exporter": "python",
   "pygments_lexer": "ipython3",
   "version": "3.7.3"
  }
 },
 "nbformat": 4,
 "nbformat_minor": 2
}
