{
 "cells": [
  {
   "cell_type": "markdown",
   "metadata": {},
   "source": [
    "# Initializations "
   ]
  },
  {
   "cell_type": "code",
   "execution_count": 1,
   "metadata": {},
   "outputs": [],
   "source": [
    "import wntr\n",
    "import pandas as pd\n",
    "import numpy as np\n",
    "import scipy\n",
    "import copy\n",
    "\n",
    "from scripts.valves import *\n",
    "from scripts.graph import *\n",
    "from scripts.simulation import *"
   ]
  },
  {
   "cell_type": "code",
   "execution_count": 2,
   "metadata": {},
   "outputs": [
    {
     "name": "stdout",
     "output_type": "stream",
     "text": [
      "Num nodes: 353 ;Num links: 391\n"
     ]
    },
    {
     "name": "stderr",
     "output_type": "stream",
     "text": [
      "/home/rewu/anaconda3/lib/python3.7/site-packages/networkx/drawing/nx_pylab.py:579: MatplotlibDeprecationWarning: \n",
      "The iterable function was deprecated in Matplotlib 3.1 and will be removed in 3.3. Use np.iterable instead.\n",
      "  if not cb.iterable(width):\n"
     ]
    },
    {
     "data": {
      "image/png": "[encoded data removed]",
      "text/plain": [
       "<Figure size 432x288 with 1 Axes>"
      ]
     },
     "metadata": {},
     "output_type": "display_data"
    }
   ],
   "source": [
    "# Create a water network model\n",
    "inp_file = '/home/rewu/Documents/research/bay_pipes/data/processed_data/communities/partial.inp'\n",
    "wn = wntr.network.WaterNetworkModel(inp_file)\n",
    "wntr.graphics.plot_network(wn, title=wn.name)\n",
    "n_node = len(wn.node_name_list)\n",
    "n_link = len(wn.link_name_list)\n",
    "print (\"Num nodes:\",n_node ,\";Num links:\", n_link)"
   ]
  },
  {
   "cell_type": "code",
   "execution_count": 3,
   "metadata": {},
   "outputs": [],
   "source": [
    "inp_graph = wntr.sim.graph.NetworkRepresentor(wn)"
   ]
  },
  {
   "cell_type": "code",
   "execution_count": 4,
   "metadata": {},
   "outputs": [],
   "source": [
    "def create_valves(lid2npair):\n",
    "    vid = 0\n",
    "    valves = []\n",
    "    for lid, npairs in lid2npair.items():\n",
    "        for nid in npairs:\n",
    "            v = Valve(vid,nid,lid)\n",
    "            vid += 1\n",
    "            valves.append(v)\n",
    "    return valves\n",
    "        \n",
    "\n",
    "class ValveStates(object):\n",
    "    def __init__(self,valve_register,N1 = False):\n",
    "        self.vreg = copy.deepcopy(valve_register)\n",
    "        self.N1 = N1\n",
    "        self.topo_valves = self._adjust2N_1() \n",
    "        self.valid_valves = self._init_valid_valves()\n",
    "        \n",
    "        self.normal_valves = self._init_valid_valves()\n",
    "        self.failed_valves = []\n",
    "        self.prev_state = None\n",
    "        \n",
    "    def _adjust2N_1(self):\n",
    "        adjust_valves = []\n",
    "        if self.N1:\n",
    "            for nid, valves in self.vreg.nid2v.items():\n",
    "                topo_valve = np.random.choice(valves, 1, replace=False)[0]\n",
    "                topo_valve.keep_open = True\n",
    "                topo_valve.fail = True\n",
    "                adjust_valves.append(topo_valve)\n",
    "        return adjust_valves\n",
    "    \n",
    "    def _init_valid_valves(self):\n",
    "        valid_valves = []\n",
    "        for vid, valve in self.vreg.vid2v.items():\n",
    "            if valve not in self.topo_valves:\n",
    "                valid_valves.append(valve)\n",
    "        return valid_valves\n",
    "    \n",
    "    def _fail_valve(self,vindex):\n",
    "        valve = self.normal_valves.pop(vindex)\n",
    "        valve.fail = True\n",
    "        return valve\n",
    "    \n",
    "    def fail_valves(self,nv2fail):\n",
    "        self.prev_state = copy.deepcopy(self)\n",
    "        failed_valves = []\n",
    "        for _ in range(nv2fail):\n",
    "            vidx_pool = list(range(len(self.normal_valves)))\n",
    "            vidx2fail = np.random.choice(vidx_pool,1,replace=False)[0]\n",
    "            failed_valve = self._fail_valve(vidx2fail)\n",
    "            failed_valves.append(failed_valve)\n",
    "        self.failed_valves += failed_valves\n",
    "        return failed_valves\n",
    "    \n",
    "    def roll_back(self):\n",
    "        self.vreg = self.prev_state.vreg\n",
    "        self.topo_valves = self.prev_state.topo_valves\n",
    "        self.normal_valves = self.prev_state.normal_valves\n",
    "        self.prev_state = self.prev_state.prev_state\n",
    "        \n",
    "    def get_valve_dict(self):\n",
    "        return self.vreg.vid2v\n",
    "    \n",
    "    def fail_all_valid_valves(self):\n",
    "        self.prev_state = copy.deepcopy(self)\n",
    "        for valid_valve in self.valid_valves:\n",
    "            valid_valve.fail = True\n",
    "            \n",
    "    @property\n",
    "    def fail_rate(self):\n",
    "        return 1-len(self.normal_valves)/len(self.valid_valves)\n",
    "               "
   ]
  },
  {
   "cell_type": "code",
   "execution_count": 5,
   "metadata": {},
   "outputs": [],
   "source": [
    "class Segment(object):\n",
    "    def __init__(self, sid):\n",
    "        self.sid = sid\n",
    "        self.nids = []\n",
    "        self.pids = []\n",
    "        \n",
    "        self.risk = None\n",
    "        self.direct_cost = None\n",
    "        self.unintend_cost = None\n",
    "       \n",
    "    def __str__(self):  \n",
    "        return \"segment with sid %d, links to nid %s and pid %s \" % (\n",
    "            self.sid, str(self.nids),str(self.pids)  )\n",
    "    \n",
    "    def adjust_risk(self,L):\n",
    "        self.risk = len(self.pids)/L\n",
    "        return True\n",
    "    \n",
    "    def adjust_direct_cost(self):\n",
    "        self.direct_cost = len(self.pids)\n",
    "        \n",
    "        \n",
    "\n",
    "def create_segment_from_nullid(sid, component,num_nodes):    \n",
    "    seg = Segment(sid)\n",
    "    for element_id in component:\n",
    "        if element_id < num_nodes:\n",
    "            seg.nids.append(element_id)\n",
    "        else:\n",
    "            seg.pids.append(element_id-num_nodes)\n",
    "    return seg\n",
    "\n",
    "def find_segments(A, num_nodes):\n",
    "    segments = []\n",
    "    components = bfs(A)\n",
    "    for i, component in enumerate(components):\n",
    "        segment = create_segment_from_nullid(i, component,num_nodes)\n",
    "        segments.append(segment)\n",
    "    return segments\n",
    "\n",
    "    \n",
    "def create_adj_mtx(vstates):\n",
    "    nnodes = len(vstates.vreg.nid2v)\n",
    "    npipes = len(vstates.vreg.pid2v)\n",
    "    vdict = vstates.get_valve_dict()\n",
    "    A = assemble_adjacency_mtx(nnodes, npipes, vdict)\n",
    "    return A\n",
    "    \n",
    "def simulate_segments(vstates):\n",
    "    A = create_adj_mtx(vstates)\n",
    "    nnodes = len(vstates.vreg.nid2v)\n",
    "    segments = find_segments(A,nnodes)\n",
    "    return segments\n",
    "\n",
    "\n"
   ]
  },
  {
   "cell_type": "code",
   "execution_count": 129,
   "metadata": {},
   "outputs": [],
   "source": [
    "def bfs_tree(root,A):\n",
    "    nids_to_explore = [root]\n",
    "    component = []\n",
    "    edges = []\n",
    "  \n",
    "    while len(nids_to_explore):\n",
    "        nid = nids_to_explore.pop()\n",
    "        if nid not in component:\n",
    "            if (len(component)):\n",
    "                edges.append((component[-1],nid))\n",
    "            component.append(nid)\n",
    "        row = A[nid,:]\n",
    "        try:\n",
    "            linked_nids = np.nonzero(row)[1]\n",
    "        except:\n",
    "            linked_nids = np.nonzero(row)[0]\n",
    "            \n",
    "        for linked_nid in linked_nids:\n",
    "            if linked_nid not in component:\n",
    "                nids_to_explore.append(linked_nid)\n",
    "    return component,edges\n",
    "\n",
    "    \n",
    "    \n",
    "def bfs(A):\n",
    "    nids = set(range(A.shape[0]))\n",
    "    components = []\n",
    "    while len(nids):\n",
    "        bfs_root = nids.pop()\n",
    "        component, _ = bfs_tree(bfs_root,A)\n",
    "        nids -= set(component)\n",
    "        components.append(component)\n",
    "    return components\n"
   ]
  },
  {
   "cell_type": "code",
   "execution_count": 130,
   "metadata": {},
   "outputs": [],
   "source": [
    "def get_nid2seg_dict(segments):\n",
    "    nid2seg = {}\n",
    "    for seg in segments:\n",
    "        for nid in seg.nids:\n",
    "            nid2seg[nid] = seg\n",
    "    return nid2seg\n",
    "\n",
    "def get_pid2seg_dict(segments):\n",
    "    pid2seg = {}\n",
    "    for seg in segments:\n",
    "        for pid in seg.pids:\n",
    "            pid2seg[pid] = seg\n",
    "    return pid2seg\n",
    "        "
   ]
  },
  {
   "cell_type": "code",
   "execution_count": 152,
   "metadata": {},
   "outputs": [],
   "source": [
    "class SegmentNet(object):\n",
    "    def __init__(self,lid2npair,src_nids,N1=False):\n",
    "        self.vstates = self._create_valvestates(lid2npair,N1)\n",
    "        self.src_nids = set(src_nids)\n",
    "        \n",
    "        self.segments = simulate_segments(self.vstates)\n",
    "        self.nid2seg = get_nid2seg_dict(self.segments)\n",
    "        self.pid2seg = get_pid2seg_dict(self.segments)\n",
    "        self.seg_adj_mtx = self._init_seg_adj_mtx()\n",
    "        \n",
    "    def _create_valvestates(self,lid2npair,N1):\n",
    "        valves = create_valves(lid2npair)\n",
    "        vreg = ValveRegister()\n",
    "        vreg.register(valves)\n",
    "        vstates = ValveStates(vreg,N1)\n",
    "        return vstates\n",
    "    \n",
    "    def _init_seg_adj_mtx(self):\n",
    "        A = np.zeros((len(self.segments),len(self.segments)))\n",
    "        for v in self.vstates.normal_valves:\n",
    "            seg0 = self.nid2seg[v.nid]\n",
    "            seg1 = self.pid2seg[v.pid]\n",
    "            A[seg0.sid,seg1.sid] = 1\n",
    "            A[seg1.sid,seg0.sid] = 1 # symmetry\n",
    "        return A \n",
    "    \n",
    "    def _find_isolated_sidx(self,A):\n",
    "        components = bfs(A)\n",
    "        isolated_sidx = []\n",
    "        for component in components:\n",
    "            if not self.src_nids.intersection(set(component)):\n",
    "                isolated_sidx += list(component)\n",
    "        return isolated_sidx\n",
    "        \n",
    "    \n",
    "    def _find_unintend_cost(self,seg_idx):\n",
    "        A = copy.deepcopy(self.seg_adj_mtx)\n",
    "        A[seg_idx,:] = 0\n",
    "        A[:,seg_idx] = 0\n",
    "        isolated_sidx = self._find_isolated_sidx(A)\n",
    "        unintend_cost = -self.segments[seg_idx].direct_cost\n",
    "        for sidx in isolated_sidx:\n",
    "            seg = self.segments[sidx]\n",
    "            unintend_cost += seg.direct_cost\n",
    "        return unintend_cost\n",
    "    \n",
    "    def adjust_segment_risk(self):\n",
    "        L = len(self.pid2seg)\n",
    "        for i, seg in enumerate(self.segments):\n",
    "            seg.adjust_risk(L)\n",
    "        \n",
    "    def adjust_segment_cost(self):\n",
    "        for i, seg in enumerate(self.segments):\n",
    "            seg.adjust_direct_cost()\n",
    "        # direct cost for a segment must be precomputed before finding unintend cost\n",
    "        for i, seg in enumerate(self.segments):\n",
    "            unintend_cost = self._find_unintend_cost(i)\n",
    "            print (seg.nids,seg.pids,unintend_cost)\n",
    "            seg.unintend_cost = unintend_cost\n",
    "    \n",
    "    \n",
    "        \n",
    "            \n",
    "            \n",
    "            "
   ]
  },
  {
   "cell_type": "code",
   "execution_count": 153,
   "metadata": {},
   "outputs": [],
   "source": [
    "sample_lid2nid = {0:(0,1),\n",
    "                 1:(1,2),\n",
    "                 2:(1,3),\n",
    "                 3:(3,4),\n",
    "                 4:(2,4),}\n",
    "#                  5:(2,5),\n",
    "#                  6:(4,5),\n",
    "#                  7:(5,6),\n",
    "#                  8:(5,8),\n",
    "#                  9:(6,7)}\n",
    "\n",
    "src_nids = [0]"
   ]
  },
  {
   "cell_type": "code",
   "execution_count": 154,
   "metadata": {},
   "outputs": [
    {
     "name": "stdout",
     "output_type": "stream",
     "text": [
      "[0] [] 5\n",
      "[1] [] 4\n",
      "[2] [] 0\n",
      "[3] [] 0\n",
      "[4] [] 0\n",
      "[] [0] 4\n",
      "[] [1] 0\n",
      "[] [2] 0\n",
      "[] [3] 0\n",
      "[] [4] 0\n"
     ]
    }
   ],
   "source": [
    "segnet = SegmentNet(sample_lid2nid,src_nids)\n",
    "segnet.adjust_segment_risk()\n",
    "segnet.adjust_segment_cost()\n",
    "\n",
    "\n"
   ]
  },
  {
   "cell_type": "code",
   "execution_count": 43,
   "metadata": {},
   "outputs": [
    {
     "name": "stdout",
     "output_type": "stream",
     "text": [
      "(10, 10)\n"
     ]
    }
   ],
   "source": [
    "print(segnet.seg_adj_mtx.shape)"
   ]
  },
  {
   "cell_type": "code",
   "execution_count": 26,
   "metadata": {},
   "outputs": [],
   "source": [
    "# valves = create_valves(inp_graph.lid2npair)\n",
    "# vreg = ValveRegister()\n",
    "# vreg.register(valves)\n",
    "\n",
    "# vstates = ValveStates(vreg,False)"
   ]
  },
  {
   "cell_type": "code",
   "execution_count": 27,
   "metadata": {},
   "outputs": [],
   "source": [
    "# init_segments = simulate_segments(vstates)"
   ]
  },
  {
   "cell_type": "code",
   "execution_count": 20,
   "metadata": {},
   "outputs": [],
   "source": [
    "# nid2seg = get_nid2seg_dict(init_segments)\n",
    "# pid2seg = get_pid2seg_dict(init_segments)"
   ]
  },
  {
   "cell_type": "code",
   "execution_count": null,
   "metadata": {},
   "outputs": [],
   "source": []
  }
 ],
 "metadata": {
  "kernelspec": {
   "display_name": "Python 3",
   "language": "python",
   "name": "python3"
  },
  "language_info": {
   "codemirror_mode": {
    "name": "ipython",
    "version": 3
   },
   "file_extension": ".py",
   "mimetype": "text/x-python",
   "name": "python",
   "nbconvert_exporter": "python",
   "pygments_lexer": "ipython3",
   "version": "3.7.3"
  }
 },
 "nbformat": 4,
 "nbformat_minor": 2
}
