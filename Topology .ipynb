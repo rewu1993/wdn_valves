{
 "cells": [
  {
   "cell_type": "code",
   "execution_count": 1,
   "metadata": {},
   "outputs": [],
   "source": [
    "from scripts.segment import *\n",
    "import numpy as np\n",
    "import matplotlib\n",
    "import matplotlib.pyplot as plt\n",
    "\n",
    "from functools import partial\n",
    "from multiprocessing import Pool"
   ]
  },
  {
   "cell_type": "code",
   "execution_count": 2,
   "metadata": {},
   "outputs": [],
   "source": [
    "# grid_size = 10\n",
    "# num_simulation = 10\n",
    "# num_test = 20\n",
    "# fail_rates = np.linspace(0, 1, num=num_test)\n",
    "\n",
    "\n",
    "\n",
    "# pool = Pool(processes=num_test)\n"
   ]
  },
  {
   "cell_type": "code",
   "execution_count": 3,
   "metadata": {},
   "outputs": [],
   "source": [
    "def generate_sim_report_topo(grid_size,num_simulation,fail_rate):\n",
    "    report = SegmentReport(grid_size)\n",
    "    valves = generate_valves_grid(grid_size)\n",
    "    valve_register = ValveRegister()\n",
    "    register_valves(valves,valve_register)\n",
    "    for i in range(num_simulation):\n",
    "        valves_dict = generate_valves_dict(valve_register,x,fail_rate)\n",
    "        segments = simulate_segments(grid_size,valves_dict)\n",
    "        report = update_segment_report(segments,report)\n",
    "    return report\n",
    "\n",
    "def generate_nx_config(valve_register,x):\n",
    "    nid2valve = valve_register.nid2v\n",
    "    vids2fail = []\n",
    "    for _,valves in nid2valve.items():\n",
    "        removed_valves = np.random.choice(valves, x, replace=False)\n",
    "        for removed_valve in removed_valves:\n",
    "            vids2fail.append(removed_valve.vid)\n",
    "    \n",
    "    vids = valve_register.vid2v.keys()\n",
    "    remained_vids = list(set(vids)-set(vids2fail))\n",
    "\n",
    "    return vids2fail,remained_vids\n",
    "\n",
    "def generate_vids2fail(vids,fail_rate):\n",
    "    num_failed_valves = int(fail_rate*len(vids))\n",
    "    rand_fvids = list(np.random.choice(vids, num_failed_valves, replace=False))\n",
    "    return rand_fvids"
   ]
  },
  {
   "cell_type": "code",
   "execution_count": 35,
   "metadata": {},
   "outputs": [],
   "source": [
    "from scripts.node import *"
   ]
  },
  {
   "cell_type": "code",
   "execution_count": 36,
   "metadata": {},
   "outputs": [
    {
     "name": "stdout",
     "output_type": "stream",
     "text": [
      "nid: 0, ntype: NodeType.UPPER_LEFT,        nneighbors: left: None, right: 1, up None, down 3,        pneighbors: [None, 0, None, 6],        vneighbors: left: None, right: valve with vid 0, links to nid 0 and pid 0, fail status 0 , up: None, down: valve with vid 12, links to nid 0 and pid 6, fail status 0 ,        degree: 2\n"
     ]
    }
   ],
   "source": [
    "\n",
    "        \n",
    "grid_size = 3\n",
    "valves = generate_valves_grid(grid_size)\n",
    "valve_register = ValveRegister()\n",
    "register_valves(valves,valve_register)\n",
    "\n",
    "nids2node = get_nid2nodes(grid_size,valve_register.nid2v)\n",
    "node = nids2node[0]\n",
    "\n",
    "print (node)"
   ]
  },
  {
   "cell_type": "code",
   "execution_count": 37,
   "metadata": {},
   "outputs": [],
   "source": [
    "from scripts.topology_operations import *"
   ]
  },
  {
   "cell_type": "code",
   "execution_count": 38,
   "metadata": {},
   "outputs": [],
   "source": []
  },
  {
   "cell_type": "code",
   "execution_count": 30,
   "metadata": {},
   "outputs": [
    {
     "data": {
      "text/plain": [
       "{0, 1, 2, 3, 4, 5, 6, 7, 8, 9}"
      ]
     },
     "execution_count": 30,
     "metadata": {},
     "output_type": "execute_result"
    }
   ],
   "source": [
    "set(range(10))"
   ]
  },
  {
   "cell_type": "code",
   "execution_count": 34,
   "metadata": {},
   "outputs": [
    {
     "data": {
      "text/plain": [
       "{0: [],\n",
       " 1: [],\n",
       " 2: [0, 4, 20, 24],\n",
       " 3: [1, 2, 3, 5, 9, 15, 21, 22, 23],\n",
       " 4: [12, 16, 17, 18, 14],\n",
       " 5: [10],\n",
       " 6: [13, 6],\n",
       " 7: [],\n",
       " 8: [],\n",
       " 9: []}"
      ]
     },
     "execution_count": 34,
     "metadata": {},
     "output_type": "execute_result"
    }
   ],
   "source": [
    "mesh.degree_distribution"
   ]
  },
  {
   "cell_type": "code",
   "execution_count": 43,
   "metadata": {},
   "outputs": [],
   "source": [
    "from scripts.graph import * "
   ]
  },
  {
   "cell_type": "code",
   "execution_count": 44,
   "metadata": {},
   "outputs": [
    {
     "data": {
      "text/plain": [
       "True"
      ]
     },
     "execution_count": 44,
     "metadata": {},
     "output_type": "execute_result"
    }
   ],
   "source": [
    "def check_left_right(left_node,right_node):\n",
    "    left_node_valves = left_node.valve_neighbors\n",
    "    right_node_valves = right_node.valve_neighbors\n",
    "    if (not left_node_valves.right.fail) and (not right_node_valves.left.fail):\n",
    "        return True\n",
    "    return False\n",
    "\n",
    "def check_up_down(up_node,down_node):\n",
    "    up_node_valves = up_node.valve_neighbors\n",
    "    down_node_valves = down_node.valve_neighbors\n",
    "    if (not up_node_valves.down.fail) and (not down_node_valves.up.fail):\n",
    "        return True\n",
    "    return False\n",
    "        \n",
    "def check_direct_linkage(node1,node2):\n",
    "    n1_neighbors = node1.get_node_neighbor_ids()\n",
    "    nid2 = node2.nid\n",
    "    if nid2 not in n1_neighbors:\n",
    "        return False\n",
    "    \n",
    "    if n1_neighbors[0] == nid2:\n",
    "        return check_left_right(node2,node1)\n",
    "    if n1_neighbors[1] == nid2:\n",
    "        return check_left_right(node1,node2)\n",
    "    if n1_neighbors[2] == nid2:\n",
    "        return check_up_down(node2,node1)\n",
    "    if n1_neighbors[3] == nid2:\n",
    "        return check_up_down(node1,node2)\n",
    "    \n",
    "        \n",
    "grid_size = 3\n",
    "valves = generate_valves_grid(grid_size)\n",
    "valve_register = ValveRegister()\n",
    "register_valves(valves,valve_register)\n",
    "nids2node = get_nid2nodes(grid_size,valve_register.nid2v)\n",
    "\n",
    "check_direct_linkage(nids2node[1],nids2node[0])"
   ]
  },
  {
   "cell_type": "code",
   "execution_count": 45,
   "metadata": {},
   "outputs": [
    {
     "name": "stdout",
     "output_type": "stream",
     "text": [
      "nid: 4, ntype: NodeType.NORMAL,        nneighbors: left: 3, right: 5, up 1, down 7,        pneighbors: [2, 3, 8, 9],        vneighbors: left: valve with vid 5, links to nid 4 and pid 2, fail status 0 , right: valve with vid 6, links to nid 4 and pid 3, fail status 0 , up: valve with vid 17, links to nid 4 and pid 8, fail status 0 , down: valve with vid 18, links to nid 4 and pid 9, fail status 0 ,        degree: 4\n",
      "nid: 0, ntype: NodeType.UPPER_LEFT,        nneighbors: left: None, right: 1, up None, down 3,        pneighbors: [None, 0, None, 6],        vneighbors: left: None, right: valve with vid 0, links to nid 0 and pid 0, fail status 0 , up: None, down: valve with vid 12, links to nid 0 and pid 6, fail status 0 ,        degree: 2\n",
      "nid: 6, ntype: NodeType.LOWER_LEFT,        nneighbors: left: None, right: 7, up 3, down None,        pneighbors: [None, 4, 7, None],        vneighbors: left: None, right: valve with vid 8, links to nid 6 and pid 4, fail status 0 , up: valve with vid 15, links to nid 6 and pid 7, fail status 0 , down: None,        degree: 2\n"
     ]
    }
   ],
   "source": [
    "def get_direct_link_nodes(node,nids2node):\n",
    "    neighbors = node.get_node_neighbor_ids()\n",
    "    linked_nodes = []\n",
    "    for nid in neighbors:\n",
    "        if (nid!=None):\n",
    "            neighbor_node = nids2node[nid]\n",
    "            if check_direct_linkage(node,neighbor_node):\n",
    "                linked_nodes.append(neighbor_node)\n",
    "    return linked_nodes\n",
    "        \n",
    "nodes = get_direct_link_nodes(nids2node[3],nids2node)\n",
    "for node in nodes:\n",
    "    print (node)\n",
    "\n",
    "# nodes = get_direct_link_nodes(nids2node[4],nids2node)\n",
    "# for node in nodes:\n",
    "#     print (node)"
   ]
  },
  {
   "cell_type": "code",
   "execution_count": 46,
   "metadata": {},
   "outputs": [
    {
     "name": "stdout",
     "output_type": "stream",
     "text": [
      "[[0. 1. 0. 1. 0. 0. 0. 0. 0.]\n",
      " [1. 0. 1. 0. 1. 0. 0. 0. 0.]\n",
      " [0. 1. 0. 0. 0. 1. 0. 0. 0.]\n",
      " [1. 0. 0. 0. 1. 0. 1. 0. 0.]\n",
      " [0. 1. 0. 1. 0. 1. 0. 1. 0.]\n",
      " [0. 0. 1. 0. 1. 0. 0. 0. 1.]\n",
      " [0. 0. 0. 1. 0. 0. 0. 1. 0.]\n",
      " [0. 0. 0. 0. 1. 0. 1. 0. 1.]\n",
      " [0. 0. 0. 0. 0. 1. 0. 1. 0.]]\n"
     ]
    }
   ],
   "source": [
    "def assemble_adjacency_mtx_nodes(nids2node):\n",
    "    tot_nodes = len(nids2node)\n",
    "    rows,cols = [],[]\n",
    "    for nid,node in nids2node.items():\n",
    "        connected_nodes = get_direct_link_nodes(node,nids2node)\n",
    "        for connected_node in connected_nodes:\n",
    "            rows.append(nid)\n",
    "            cols.append(connected_node.nid)\n",
    "\n",
    "    vals = 1+np.zeros(len(rows))\n",
    "    A = csc_matrix((vals, (rows, cols)), shape=(tot_nodes,tot_nodes))\n",
    "    return A\n",
    "\n",
    "A = assemble_adjacency_mtx_nodes(nids2node)\n",
    "print (A.todense())"
   ]
  },
  {
   "cell_type": "code",
   "execution_count": 47,
   "metadata": {},
   "outputs": [],
   "source": [
    "def create_reversed_valves(valves):\n",
    "    reversed_valves = []\n",
    "    for v in valves:\n",
    "        valve = v.copy()\n",
    "        valve.fail = ~valve.fail\n",
    "        reversed_valves.append(valve)\n",
    "    return reversed_valves"
   ]
  },
  {
   "cell_type": "code",
   "execution_count": 48,
   "metadata": {},
   "outputs": [
    {
     "data": {
      "text/plain": [
       "9"
      ]
     },
     "execution_count": 48,
     "metadata": {},
     "output_type": "execute_result"
    }
   ],
   "source": [
    "grid_size = 3\n",
    "valves = generate_valves_grid(grid_size)\n",
    "valve_register = ValveRegister()\n",
    "register_valves(valves,valve_register)\n",
    "nids2node = get_nid2nodes(grid_size,valve_register.nid2v)\n",
    "len(nids2node)\n",
    "# reversed_valve_dict = reverse_valve_fail(valve_register.vid2v)\n",
    "# nids2node = get_nid2nodes(grid_size,valve_register.vid2v)\n",
    "# A = assemble_adjacency_mtx(grid_size,reversed_valve_dict)"
   ]
  },
  {
   "cell_type": "code",
   "execution_count": 69,
   "metadata": {},
   "outputs": [
    {
     "data": {
      "text/plain": [
       "8"
      ]
     },
     "execution_count": 69,
     "metadata": {},
     "output_type": "execute_result"
    }
   ],
   "source": [
    "def node_pair2pid(node1,node2):\n",
    "    pids1 = set(node1.get_pipe_neighbor_ids())\n",
    "    pids2 = set(node2.get_pipe_neighbor_ids())\n",
    "    pids = pids1.intersection(pids2)\n",
    "    \n",
    "    pid = None \n",
    "    for p in pids:\n",
    "        if p!= None:\n",
    "            pid = p\n",
    "    return pid\n",
    " \n",
    "node1 = nids2node[1]\n",
    "node2 = nids2node[4]\n",
    "\n",
    "node_pair2pid(node1,node2)"
   ]
  },
  {
   "cell_type": "code",
   "execution_count": 70,
   "metadata": {},
   "outputs": [],
   "source": [
    "def convert_npairs2pids(node_pairs,nids2node):\n",
    "    pids = []\n",
    "    for nid1,nid2  in node_pairs:\n",
    "        n1,n2 = nids2node[nid1],nids2node[nid2]\n",
    "        pids.append(node_pair2pid(n1,n2))\n",
    "    return pids\n",
    "        \n",
    "        \n",
    "\n",
    "    \n",
    "    "
   ]
  },
  {
   "cell_type": "code",
   "execution_count": 71,
   "metadata": {},
   "outputs": [
    {
     "data": {
      "text/plain": [
       "[0, 6, 2, 7, 4, 9, 5, 11, 10, 3, 8, 1]"
      ]
     },
     "execution_count": 71,
     "metadata": {},
     "output_type": "execute_result"
    }
   ],
   "source": [
    "def get_bfs_edges(A,nids2node):\n",
    "    component,edges = bsf_tree(0,A)\n",
    "    edges = convert_npairs2pids(edges,nids2node) \n",
    "    return edges\n",
    "\n",
    "get_bfs_edges(A,nids2node)"
   ]
  },
  {
   "cell_type": "code",
   "execution_count": 87,
   "metadata": {},
   "outputs": [],
   "source": [
    "class Mesh(object):\n",
    "    def __init__(self,grid_size):\n",
    "        self.grid_size = grid_size\n",
    "        self.nids = set(range(grid_size*grid_size))\n",
    "        \n",
    "        self.valve_register = self._create_valveNregister()\n",
    "        self.nid2nodes = self._create_nid2nodes()\n",
    "        self.contraction_reg = ContractionRegister()\n",
    "        self.degree_distribution = self._init_degree_distribution()\n",
    "        \n",
    "        self.adj_mtx_nodes = assemble_adjacency_mtx_nodes(self.nid2nodes)\n",
    "        self.bfs_edges = get_bfs_edges(self.adj_mtx_nodes,self.nid2nodes)\n",
    "#         self.deletion_reg = DeletionRegister()\n",
    "        \n",
    "    def _create_valveNregister(self):\n",
    "        valves = generate_valves_grid(self.grid_size)\n",
    "        valve_register = ValveRegister()\n",
    "        register_valves(valves,valve_register)\n",
    "        return valve_register\n",
    "    \n",
    "    def _create_nid2nodes(self):\n",
    "        return get_nid2nodes(self.grid_size,self.valve_register.nid2v)\n",
    "    \n",
    "    def _init_degree_distribution(self):\n",
    "        degrees = {}\n",
    "        for i in range(10):\n",
    "            degrees[i] = []\n",
    "        return degrees\n",
    "    \n",
    "    def perform_contractions(self,identify_pairs_op):\n",
    "        self.contraction_reg = register_contractions(identify_pairs_op,self.contraction_reg)\n",
    "    \n",
    "    def deletions(self):\n",
    "        return None\n",
    "    \n",
    "    def update_degree_distribution(self):    \n",
    "        self._init_degree_distribution()\n",
    "        normal_nids = self.nids-self.contraction_reg.contracted_nids\n",
    "        for normal_nid in normal_nids:\n",
    "            node = self.nid2nodes[normal_nid]\n",
    "            degree = node.degree()\n",
    "            self.degree_distribution[degree].append(normal_nid)\n",
    "        \n",
    "        for cn1,cn2 in self.contraction_reg.npairs:\n",
    "            degree = cn1.degree()+cn2.degree()-2\n",
    "            self.degree_distribution[degree].append(cn1.nid)\n",
    "        \n",
    "        \n",
    "        "
   ]
  },
  {
   "cell_type": "code",
   "execution_count": 88,
   "metadata": {},
   "outputs": [
    {
     "name": "stdout",
     "output_type": "stream",
     "text": [
      "npairs: [(<__main__.Node object at 0x7fc125cd7f60>, <__main__.Node object at 0x7fc125d526a0>), (<__main__.Node object at 0x7fc125cd78d0>, <__main__.Node object at 0x7fc125cd75c0>), (<__main__.Node object at 0x7fc125d52320>, <__main__.Node object at 0x7fc125cd77f0>), (<__main__.Node object at 0x7fc125d52550>, <__main__.Node object at 0x7fc125d526a0>)], vpairs: [(<scripts.valves.Valve object at 0x7fc125d78d30>, <scripts.valves.Valve object at 0x7fc125d78a90>), (<scripts.valves.Valve object at 0x7fc125d78240>, <scripts.valves.Valve object at 0x7fc125d784e0>), (<scripts.valves.Valve object at 0x7fc125d78940>, <scripts.valves.Valve object at 0x7fc125d78780>), (<scripts.valves.Valve object at 0x7fc125d7e2b0>, <scripts.valves.Valve object at 0x7fc125d7e780>)],        trivial_pids: [39, 30, 27, 19],contracted_nids: {12, 16, 17, 19, 21, 23, 24}\n"
     ]
    }
   ],
   "source": [
    "grid_size = 5\n",
    "contraction_ratio = 0.2\n",
    "mesh = Mesh(grid_size)\n",
    "\n",
    "nids2identify = get_nids2identify(grid_size,contraction_ratio)\n",
    "identify_pairs_op =  get_identify_pairs_op(nids2identify,mesh.nid2nodes)\n",
    "mesh.perform_contractions(identify_pairs_op)\n",
    "mesh.update_degree_distribution()\n",
    "print(mesh.contraction_reg)"
   ]
  },
  {
   "cell_type": "code",
   "execution_count": 77,
   "metadata": {},
   "outputs": [
    {
     "data": {
      "text/plain": [
       "{0: [],\n",
       " 1: [],\n",
       " 2: [4, 20, 24],\n",
       " 3: [2, 3, 14, 15, 19, 21, 22, 23, 0],\n",
       " 4: [6, 7, 11, 12, 13, 18, 5],\n",
       " 5: [9],\n",
       " 6: [17],\n",
       " 7: [],\n",
       " 8: [],\n",
       " 9: []}"
      ]
     },
     "execution_count": 77,
     "metadata": {},
     "output_type": "execute_result"
    }
   ],
   "source": [
    "mesh.degree_distribution"
   ]
  },
  {
   "cell_type": "code",
   "execution_count": 85,
   "metadata": {},
   "outputs": [],
   "source": [
    "class Node(object):\n",
    "    def __init__(self,nid,node_type_checker,grid_size):\n",
    "        self.nid = nid\n",
    "        self.node_type = node_type_checker.get_node_type(nid)\n",
    "        self.node_neighbors = NodeNeighbors(nid,grid_size)\n",
    "        self.valve_neighbors = ValveNeighbors(nid)\n",
    "        self.pipe_neighbors = [None,None,None,None]\n",
    "        self.closed_pipes = [False,False,False,False]\n",
    "    \n",
    "    def adjust_neighbors(self,nid2valve):\n",
    "        self.valve_neighbors.adjust_neighbors(nid2valve,self.node_type)\n",
    "        self.node_neighbors.adjust_neighbors(self.valve_neighbors)\n",
    "        self.pipe_neighbors = self.create_pipe_neighbors()\n",
    "    \n",
    "    def create_pipe_neighbors(self):\n",
    "        pipe_neighbors = [None,None,None,None]\n",
    "        v_neighbors = self.get_valve_neighbors()\n",
    "        for i,v in enumerate(v_neighbors):\n",
    "            if v:\n",
    "                pipe_neighbors[i] = v.pid\n",
    "            else:\n",
    "                self.closed_pipes[i] = True\n",
    "        return pipe_neighbors\n",
    "    \n",
    "    def get_node_neighbor_ids(self):\n",
    "        return self.node_neighbors.get_neighbors()\n",
    "    \n",
    "    def get_valve_neighbors(self):\n",
    "        return self.valve_neighbors.get_neighbors()\n",
    "    \n",
    "    def get_pipe_neighbor_ids(self):\n",
    "        return self.pipe_neighbors\n",
    "    \n",
    "    def degree(self):\n",
    "        d = 4-sum(self.closed_pipes)\n",
    "        return d\n",
    "        \n",
    "    def close_pipe(self,pid2close):\n",
    "        op = None\n",
    "        for i, pid in enumerate(self.pipe_neighbors):\n",
    "            if pid ==  pid2close:\n",
    "                self.closed_pipes[i] = True\n",
    "                op = i\n",
    "                break\n",
    "        if op == None:\n",
    "            raise(f\"can not close pipe {pid2close}, not linked to this node\")\n",
    "            \n",
    "        self._close_pipe_on_other_end()\n",
    "            \n",
    "    def _close_pipe_on_other_end(self,op):\n",
    "        other_end_node = self.node_neighbors[op]\n",
    "        if op == 0:\n",
    "            other_end_node.closed_pipes[1] = True\n",
    "        elif op == 1:\n",
    "            other_end_node.closed_pipes[0] = True\n",
    "        elif op == 2:\n",
    "            other_end_node.closed_pipes[3] = True\n",
    "        elif op == 3:\n",
    "            other_end_node.closed_pipes[2] = True\n",
    "        \n",
    "            \n",
    "        \n",
    "        \n",
    "    def __str__(self):  \n",
    "        return f\"nid: {self.nid}, ntype: {self.node_type},\\\n",
    "        nneighbors: {self.node_neighbors},\\\n",
    "        pneighbors: {self.pipe_neighbors},\\\n",
    "        vneighbors: {self.valve_neighbors},\\\n",
    "        degree: {self.degree()}\" \n",
    "\n",
    "    \n",
    "def get_nid2nodes(grid_size,nid2v_dict):\n",
    "    nid2nodes = {}\n",
    "    type_checker = NodeTypeChecker(grid_size)\n",
    "    N = grid_size*grid_size\n",
    "    for nid in range(N):\n",
    "        node = Node(nid,type_checker,grid_size)\n",
    "        node.adjust_neighbors(nid2v_dict)\n",
    "        nid2nodes[nid] = node     \n",
    "    return nid2nodes "
   ]
  },
  {
   "cell_type": "code",
   "execution_count": 99,
   "metadata": {},
   "outputs": [],
   "source": [
    "def choose_pid2close(node,pid_blacklist):\n",
    "    valid_pids = []\n",
    "    pids = [pid for pid in node.pipe_neighbors if (pid != None and pid not in pid_blacklist) ]\n",
    "    print (node.pipe_neighbors,pids)\n",
    "    if len(pids):\n",
    "        return np.random.choice(pids,1)\n",
    "    else:\n",
    "        return None\n",
    "    "
   ]
  },
  {
   "cell_type": "code",
   "execution_count": 117,
   "metadata": {},
   "outputs": [
    {
     "name": "stdout",
     "output_type": "stream",
     "text": [
      "npairs: [(<__main__.Node object at 0x7fc125d50160>, <__main__.Node object at 0x7fc125d50ac8>)], vpairs: [(<scripts.valves.Valve object at 0x7fc125b60dd8>, <scripts.valves.Valve object at 0x7fc125b60eb8>)],        trivial_pids: [1],contracted_nids: {1, 2}\n"
     ]
    }
   ],
   "source": [
    "grid_size = 3\n",
    "contraction_ratio = 0.2\n",
    "mesh = Mesh(grid_size)\n",
    "\n",
    "nids2identify = get_nids2identify(grid_size,contraction_ratio)\n",
    "identify_pairs_op =  get_identify_pairs_op(nids2identify,mesh.nid2nodes)\n",
    "mesh.perform_contractions(identify_pairs_op)\n",
    "mesh.update_degree_distribution()\n",
    "print(mesh.contraction_reg)"
   ]
  },
  {
   "cell_type": "code",
   "execution_count": 119,
   "metadata": {},
   "outputs": [
    {
     "name": "stdout",
     "output_type": "stream",
     "text": [
      "[None, 0, None, 6] []\n"
     ]
    }
   ],
   "source": [
    "choose_pid2close(mesh.nid2nodes[0],mesh.bfs_edges)"
   ]
  },
  {
   "cell_type": "code",
   "execution_count": 120,
   "metadata": {},
   "outputs": [
    {
     "data": {
      "text/plain": [
       "12"
      ]
     },
     "execution_count": 120,
     "metadata": {},
     "output_type": "execute_result"
    }
   ],
   "source": [
    "len(mesh.bfs_edges)"
   ]
  },
  {
   "cell_type": "code",
   "execution_count": null,
   "metadata": {},
   "outputs": [],
   "source": []
  },
  {
   "cell_type": "code",
   "execution_count": null,
   "metadata": {},
   "outputs": [],
   "source": []
  }
 ],
 "metadata": {
  "kernelspec": {
   "display_name": "Python 3",
   "language": "python",
   "name": "python3"
  },
  "language_info": {
   "codemirror_mode": {
    "name": "ipython",
    "version": 3
   },
   "file_extension": ".py",
   "mimetype": "text/x-python",
   "name": "python",
   "nbconvert_exporter": "python",
   "pygments_lexer": "ipython3",
   "version": "3.7.3"
  }
 },
 "nbformat": 4,
 "nbformat_minor": 2
}
