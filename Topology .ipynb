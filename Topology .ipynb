{
 "cells": [
  {
   "cell_type": "code",
   "execution_count": 1,
   "metadata": {},
   "outputs": [],
   "source": [
    "from scripts.segment import *\n",
    "import numpy as np\n",
    "import matplotlib\n",
    "import matplotlib.pyplot as plt\n",
    "\n",
    "from functools import partial\n",
    "from multiprocessing import Pool"
   ]
  },
  {
   "cell_type": "code",
   "execution_count": 2,
   "metadata": {},
   "outputs": [],
   "source": [
    "# grid_size = 10\n",
    "# num_simulation = 10\n",
    "# num_test = 20\n",
    "# fail_rates = np.linspace(0, 1, num=num_test)\n",
    "\n",
    "\n",
    "\n",
    "# pool = Pool(processes=num_test)\n"
   ]
  },
  {
   "cell_type": "code",
   "execution_count": 3,
   "metadata": {},
   "outputs": [],
   "source": [
    "def generate_sim_report_topo(grid_size,num_simulation,fail_rate):\n",
    "    report = SegmentReport(grid_size)\n",
    "    valves = generate_valves_grid(grid_size)\n",
    "    valve_register = ValveRegister()\n",
    "    register_valves(valves,valve_register)\n",
    "    for i in range(num_simulation):\n",
    "        valves_dict = generate_valves_dict(valve_register,x,fail_rate)\n",
    "        segments = simulate_segments(grid_size,valves_dict)\n",
    "        report = update_segment_report(segments,report)\n",
    "    return report\n",
    "\n",
    "def generate_nx_config(valve_register,x):\n",
    "    nid2valve = valve_register.nid2v\n",
    "    vids2fail = []\n",
    "    for _,valves in nid2valve.items():\n",
    "        removed_valves = np.random.choice(valves, x, replace=False)\n",
    "        for removed_valve in removed_valves:\n",
    "            vids2fail.append(removed_valve.vid)\n",
    "    \n",
    "    vids = valve_register.vid2v.keys()\n",
    "    remained_vids = list(set(vids)-set(vids2fail))\n",
    "\n",
    "    return vids2fail,remained_vids\n",
    "\n",
    "def generate_vids2fail(vids,fail_rate):\n",
    "    num_failed_valves = int(fail_rate*len(vids))\n",
    "    rand_fvids = list(np.random.choice(vids, num_failed_valves, replace=False))\n",
    "    return rand_fvids"
   ]
  },
  {
   "cell_type": "code",
   "execution_count": 35,
   "metadata": {},
   "outputs": [],
   "source": [
    "from scripts.node import *"
   ]
  },
  {
   "cell_type": "code",
   "execution_count": 36,
   "metadata": {},
   "outputs": [
    {
     "name": "stdout",
     "output_type": "stream",
     "text": [
      "nid: 0, ntype: NodeType.UPPER_LEFT,        nneighbors: left: None, right: 1, up None, down 3,        pneighbors: [None, 0, None, 6],        vneighbors: left: None, right: valve with vid 0, links to nid 0 and pid 0, fail status 0 , up: None, down: valve with vid 12, links to nid 0 and pid 6, fail status 0 ,        degree: 2\n"
     ]
    }
   ],
   "source": [
    "\n",
    "        \n",
    "grid_size = 3\n",
    "valves = generate_valves_grid(grid_size)\n",
    "valve_register = ValveRegister()\n",
    "register_valves(valves,valve_register)\n",
    "\n",
    "nids2node = get_nid2nodes(grid_size,valve_register.nid2v)\n",
    "node = nids2node[0]\n",
    "\n",
    "print (node)"
   ]
  },
  {
   "cell_type": "code",
   "execution_count": 37,
   "metadata": {},
   "outputs": [],
   "source": [
    "from scripts.topology_operations import *"
   ]
  },
  {
   "cell_type": "code",
   "execution_count": 38,
   "metadata": {},
   "outputs": [],
   "source": []
  },
  {
   "cell_type": "code",
   "execution_count": 30,
   "metadata": {},
   "outputs": [
    {
     "data": {
      "text/plain": [
       "{0, 1, 2, 3, 4, 5, 6, 7, 8, 9}"
      ]
     },
     "execution_count": 30,
     "metadata": {},
     "output_type": "execute_result"
    }
   ],
   "source": [
    "set(range(10))"
   ]
  },
  {
   "cell_type": "code",
   "execution_count": 34,
   "metadata": {},
   "outputs": [
    {
     "data": {
      "text/plain": [
       "{0: [],\n",
       " 1: [],\n",
       " 2: [0, 4, 20, 24],\n",
       " 3: [1, 2, 3, 5, 9, 15, 21, 22, 23],\n",
       " 4: [12, 16, 17, 18, 14],\n",
       " 5: [10],\n",
       " 6: [13, 6],\n",
       " 7: [],\n",
       " 8: [],\n",
       " 9: []}"
      ]
     },
     "execution_count": 34,
     "metadata": {},
     "output_type": "execute_result"
    }
   ],
   "source": [
    "mesh.degree_distribution"
   ]
  },
  {
   "cell_type": "code",
   "execution_count": 43,
   "metadata": {},
   "outputs": [],
   "source": [
    "from scripts.graph import * "
   ]
  },
  {
   "cell_type": "code",
   "execution_count": 44,
   "metadata": {},
   "outputs": [
    {
     "data": {
      "text/plain": [
       "True"
      ]
     },
     "execution_count": 44,
     "metadata": {},
     "output_type": "execute_result"
    }
   ],
   "source": [
    "# def check_left_right(left_node,right_node):\n",
    "#     left_node_valves = left_node.valve_neighbors\n",
    "#     right_node_valves = right_node.valve_neighbors\n",
    "#     if (not left_node_valves.right.fail) and (not right_node_valves.left.fail):\n",
    "#         return True\n",
    "#     return False\n",
    "\n",
    "# def check_up_down(up_node,down_node):\n",
    "#     up_node_valves = up_node.valve_neighbors\n",
    "#     down_node_valves = down_node.valve_neighbors\n",
    "#     if (not up_node_valves.down.fail) and (not down_node_valves.up.fail):\n",
    "#         return True\n",
    "#     return False\n",
    "        \n",
    "# def check_direct_linkage(node1,node2):\n",
    "#     n1_neighbors = node1.get_node_neighbor_ids()\n",
    "#     nid2 = node2.nid\n",
    "#     if nid2 not in n1_neighbors:\n",
    "#         return False\n",
    "    \n",
    "#     if n1_neighbors[0] == nid2:\n",
    "#         return check_left_right(node2,node1)\n",
    "#     if n1_neighbors[1] == nid2:\n",
    "#         return check_left_right(node1,node2)\n",
    "#     if n1_neighbors[2] == nid2:\n",
    "#         return check_up_down(node2,node1)\n",
    "#     if n1_neighbors[3] == nid2:\n",
    "#         return check_up_down(node1,node2)\n",
    "    \n",
    "        \n",
    "# grid_size = 3\n",
    "# valves = generate_valves_grid(grid_size)\n",
    "# valve_register = ValveRegister()\n",
    "# register_valves(valves,valve_register)\n",
    "# nids2node = get_nid2nodes(grid_size,valve_register.nid2v)\n",
    "\n",
    "# check_direct_linkage(nids2node[1],nids2node[0])"
   ]
  },
  {
   "cell_type": "code",
   "execution_count": 45,
   "metadata": {},
   "outputs": [
    {
     "name": "stdout",
     "output_type": "stream",
     "text": [
      "nid: 4, ntype: NodeType.NORMAL,        nneighbors: left: 3, right: 5, up 1, down 7,        pneighbors: [2, 3, 8, 9],        vneighbors: left: valve with vid 5, links to nid 4 and pid 2, fail status 0 , right: valve with vid 6, links to nid 4 and pid 3, fail status 0 , up: valve with vid 17, links to nid 4 and pid 8, fail status 0 , down: valve with vid 18, links to nid 4 and pid 9, fail status 0 ,        degree: 4\n",
      "nid: 0, ntype: NodeType.UPPER_LEFT,        nneighbors: left: None, right: 1, up None, down 3,        pneighbors: [None, 0, None, 6],        vneighbors: left: None, right: valve with vid 0, links to nid 0 and pid 0, fail status 0 , up: None, down: valve with vid 12, links to nid 0 and pid 6, fail status 0 ,        degree: 2\n",
      "nid: 6, ntype: NodeType.LOWER_LEFT,        nneighbors: left: None, right: 7, up 3, down None,        pneighbors: [None, 4, 7, None],        vneighbors: left: None, right: valve with vid 8, links to nid 6 and pid 4, fail status 0 , up: valve with vid 15, links to nid 6 and pid 7, fail status 0 , down: None,        degree: 2\n"
     ]
    }
   ],
   "source": [
    "# def get_direct_link_nodes(node,nids2node):\n",
    "#     neighbors = node.get_node_neighbor_ids()\n",
    "#     linked_nodes = []\n",
    "#     for nid in neighbors:\n",
    "#         if (nid!=None):\n",
    "#             neighbor_node = nids2node[nid]\n",
    "#             if check_direct_linkage(node,neighbor_node):\n",
    "#                 linked_nodes.append(neighbor_node)\n",
    "#     return linked_nodes\n",
    "        \n",
    "# nodes = get_direct_link_nodes(nids2node[3],nids2node)\n",
    "# for node in nodes:\n",
    "#     print (node)\n",
    "\n",
    "# # nodes = get_direct_link_nodes(nids2node[4],nids2node)\n",
    "# # for node in nodes:\n",
    "# #     print (node)"
   ]
  },
  {
   "cell_type": "code",
   "execution_count": 46,
   "metadata": {},
   "outputs": [
    {
     "name": "stdout",
     "output_type": "stream",
     "text": [
      "[[0. 1. 0. 1. 0. 0. 0. 0. 0.]\n",
      " [1. 0. 1. 0. 1. 0. 0. 0. 0.]\n",
      " [0. 1. 0. 0. 0. 1. 0. 0. 0.]\n",
      " [1. 0. 0. 0. 1. 0. 1. 0. 0.]\n",
      " [0. 1. 0. 1. 0. 1. 0. 1. 0.]\n",
      " [0. 0. 1. 0. 1. 0. 0. 0. 1.]\n",
      " [0. 0. 0. 1. 0. 0. 0. 1. 0.]\n",
      " [0. 0. 0. 0. 1. 0. 1. 0. 1.]\n",
      " [0. 0. 0. 0. 0. 1. 0. 1. 0.]]\n"
     ]
    }
   ],
   "source": [
    "# def assemble_adjacency_mtx_nodes(nids2node):\n",
    "#     tot_nodes = len(nids2node)\n",
    "#     rows,cols = [],[]\n",
    "#     for nid,node in nids2node.items():\n",
    "#         connected_nodes = get_direct_link_nodes(node,nids2node)\n",
    "#         for connected_node in connected_nodes:\n",
    "#             rows.append(nid)\n",
    "#             cols.append(connected_node.nid)\n",
    "\n",
    "#     vals = 1+np.zeros(len(rows))\n",
    "#     A = csc_matrix((vals, (rows, cols)), shape=(tot_nodes,tot_nodes))\n",
    "#     return A\n",
    "\n",
    "# A = assemble_adjacency_mtx_nodes(nids2node)\n",
    "# print (A.todense())"
   ]
  },
  {
   "cell_type": "code",
   "execution_count": 47,
   "metadata": {},
   "outputs": [],
   "source": [
    "def create_reversed_valves(valves):\n",
    "    reversed_valves = []\n",
    "    for v in valves:\n",
    "        valve = v.copy()\n",
    "        valve.fail = ~valve.fail\n",
    "        reversed_valves.append(valve)\n",
    "    return reversed_valves"
   ]
  },
  {
   "cell_type": "code",
   "execution_count": 48,
   "metadata": {},
   "outputs": [
    {
     "data": {
      "text/plain": [
       "9"
      ]
     },
     "execution_count": 48,
     "metadata": {},
     "output_type": "execute_result"
    }
   ],
   "source": [
    "grid_size = 3\n",
    "valves = generate_valves_grid(grid_size)\n",
    "valve_register = ValveRegister()\n",
    "register_valves(valves,valve_register)\n",
    "nids2node = get_nid2nodes(grid_size,valve_register.nid2v)\n",
    "len(nids2node)\n",
    "# reversed_valve_dict = reverse_valve_fail(valve_register.vid2v)\n",
    "# nids2node = get_nid2nodes(grid_size,valve_register.vid2v)\n",
    "# A = assemble_adjacency_mtx(grid_size,reversed_valve_dict)"
   ]
  },
  {
   "cell_type": "code",
   "execution_count": 69,
   "metadata": {},
   "outputs": [
    {
     "data": {
      "text/plain": [
       "8"
      ]
     },
     "execution_count": 69,
     "metadata": {},
     "output_type": "execute_result"
    }
   ],
   "source": [
    "# def node_pair2pid(node1,node2):\n",
    "#     pids1 = set(node1.get_pipe_neighbor_ids())\n",
    "#     pids2 = set(node2.get_pipe_neighbor_ids())\n",
    "#     pids = pids1.intersection(pids2)\n",
    "    \n",
    "#     pid = None \n",
    "#     for p in pids:\n",
    "#         if p!= None:\n",
    "#             pid = p\n",
    "#     return pid\n",
    " \n",
    "# node1 = nids2node[1]\n",
    "# node2 = nids2node[4]\n",
    "\n",
    "# node_pair2pid(node1,node2)"
   ]
  },
  {
   "cell_type": "code",
   "execution_count": 70,
   "metadata": {},
   "outputs": [],
   "source": [
    "# def convert_npairs2pids(node_pairs,nids2node):\n",
    "#     pids = []\n",
    "#     for nid1,nid2  in node_pairs:\n",
    "#         n1,n2 = nids2node[nid1],nids2node[nid2]\n",
    "#         pids.append(node_pair2pid(n1,n2))\n",
    "#     return pids\n",
    "        \n",
    "        \n",
    "\n",
    "    \n",
    "    "
   ]
  },
  {
   "cell_type": "code",
   "execution_count": 127,
   "metadata": {},
   "outputs": [
    {
     "data": {
      "text/plain": [
       "[6, 7, 4, 5, 11, 3, 8, 1]"
      ]
     },
     "execution_count": 127,
     "metadata": {},
     "output_type": "execute_result"
    }
   ],
   "source": [
    "# def get_bfs_edges(A,nids2node):\n",
    "#     component,edges = bfs_tree(0,A)\n",
    "#     edges = convert_npairs2pids(edges,nids2node) \n",
    "#     return edges\n",
    "\n",
    "get_bfs_edges(A,nids2node)"
   ]
  },
  {
   "cell_type": "code",
   "execution_count": 166,
   "metadata": {},
   "outputs": [],
   "source": [
    "# class Node(object):\n",
    "#     def __init__(self,nid,node_type_checker,grid_size):\n",
    "#         self.nid = nid\n",
    "#         self.node_type = node_type_checker.get_node_type(nid)\n",
    "#         self.node_neighbors = NodeNeighbors(nid,grid_size)\n",
    "#         self.valve_neighbors = ValveNeighbors(nid)\n",
    "#         self.pipe_neighbors = [None,None,None,None]\n",
    "#         self.closed_pipes = [False,False,False,False]\n",
    "    \n",
    "#     def adjust_neighbors(self,nid2valve):\n",
    "#         self.valve_neighbors.adjust_neighbors(nid2valve,self.node_type)\n",
    "#         self.node_neighbors.adjust_neighbors(self.valve_neighbors)\n",
    "#         self.pipe_neighbors = self.create_pipe_neighbors()\n",
    "    \n",
    "#     def create_pipe_neighbors(self):\n",
    "#         pipe_neighbors = [None,None,None,None]\n",
    "#         v_neighbors = self.get_valve_neighbors()\n",
    "#         for i,v in enumerate(v_neighbors):\n",
    "#             if v:\n",
    "#                 pipe_neighbors[i] = v.pid\n",
    "#             else:\n",
    "#                 self.closed_pipes[i] = True\n",
    "#         return pipe_neighbors\n",
    "    \n",
    "#     def get_node_neighbor_ids(self):\n",
    "#         return self.node_neighbors.get_neighbors()\n",
    "    \n",
    "#     def get_valve_neighbors(self):\n",
    "#         return self.valve_neighbors.get_neighbors()\n",
    "    \n",
    "#     def get_pipe_neighbor_ids(self):\n",
    "#         return self.pipe_neighbors\n",
    "    \n",
    "#     def degree(self):\n",
    "#         d = 4-sum(self.closed_pipes)\n",
    "#         return d\n",
    "        \n",
    "        \n",
    "#     def __str__(self):  \n",
    "#         return f\"nid: {self.nid}, ntype: {self.node_type},\\\n",
    "#         nneighbors: {self.node_neighbors},\\\n",
    "#         pneighbors: {self.pipe_neighbors},\\\n",
    "#         vneighbors: {self.valve_neighbors},\\\n",
    "#         degree: {self.degree()}\" \n",
    "\n",
    "    \n",
    "# def get_nid2nodes(grid_size,nid2v_dict):\n",
    "#     nid2nodes = {}\n",
    "#     type_checker = NodeTypeChecker(grid_size)\n",
    "#     N = grid_size*grid_size\n",
    "#     for nid in range(N):\n",
    "#         node = Node(nid,type_checker,grid_size)\n",
    "#         node.adjust_neighbors(nid2v_dict)\n",
    "#         nid2nodes[nid] = node     \n",
    "#     return nid2nodes "
   ]
  },
  {
   "cell_type": "code",
   "execution_count": 167,
   "metadata": {},
   "outputs": [
    {
     "name": "stderr",
     "output_type": "stream",
     "text": [
      "..\n",
      "----------------------------------------------------------------------\n",
      "Ran 2 tests in 0.004s\n",
      "\n",
      "OK\n"
     ]
    },
    {
     "data": {
      "text/plain": [
       "<unittest.main.TestProgram at 0x7fc125571e10>"
      ]
     },
     "execution_count": 167,
     "metadata": {},
     "output_type": "execute_result"
    }
   ],
   "source": [
    "# class TestNodes(unittest.TestCase):\n",
    "    \n",
    "#     def setUp(self):\n",
    "#         grid_size = 3\n",
    "#         valves = generate_valves_grid(grid_size)\n",
    "#         valve_register = ValveRegister()\n",
    "#         register_valves(valves,valve_register)\n",
    "#         self.nids2node = get_nid2nodes(grid_size,valve_register.nid2v)\n",
    "    \n",
    "#     def test_center_node(self):\n",
    "#         nid = 4\n",
    "#         node = self.nids2node[nid]\n",
    "#         \"\"\"Nodes\"\"\"\n",
    "#         self.assertEqual(node.get_node_neighbor_ids(),[3,5,1,7])\n",
    "#         \"\"\"valves \"\"\"\n",
    "#         vids = []\n",
    "#         for v in node.get_valve_neighbors():\n",
    "#             vids.append(v.vid)\n",
    "            \n",
    "#         self.assertEqual(vids,[5,6,17,18])\n",
    "#         \"\"\"pipes\"\"\"\n",
    "#         self.assertEqual(node.get_pipe_neighbor_ids(),[2,3,8,9])\n",
    "#         \"\"\"degree\"\"\"\n",
    "#         self.assertEqual(node.degree(),4)\n",
    "#         # Closed pipes \n",
    "#         self.assertEqual(node.closed_pipes,[False,False,False,False])\n",
    "    \n",
    "#     def test_corner_node(self):\n",
    "#         nid = 0\n",
    "#         node = self.nids2node[nid]\n",
    "#         \"\"\"Nodes\"\"\"\n",
    "#         self.assertEqual(node.get_node_neighbor_ids(),[None,1,None,3])\n",
    "#         \"\"\"valves \"\"\"\n",
    "#         vids = []\n",
    "#         for v in node.get_valve_neighbors():\n",
    "#             try:\n",
    "#                 vids.append(v.vid)\n",
    "#             except:\n",
    "#                 vids.append(None)\n",
    "            \n",
    "#         self.assertEqual(vids,[None,0,None,12])\n",
    "#         \"\"\"pipes\"\"\"\n",
    "#         self.assertEqual(node.get_pipe_neighbor_ids(),[None,0,None,6])\n",
    "#         \"\"\"degree\"\"\"\n",
    "#         self.assertEqual(node.degree(),2)\n",
    "#         # Closed pipes \n",
    "#         self.assertEqual(node.closed_pipes,[True,False,True,False])\n",
    "        \n",
    "\n",
    "        \n",
    "# unittest.main(argv=['first-arg-is-ignored'], exit=False)\n",
    "        "
   ]
  },
  {
   "cell_type": "code",
   "execution_count": 275,
   "metadata": {},
   "outputs": [],
   "source": [
    "# class Mesh(object):\n",
    "#     def __init__(self,grid_size):\n",
    "#         self.grid_size = grid_size\n",
    "#         self.nids = set(range(grid_size*grid_size))\n",
    "        \n",
    "#         self.valve_register = self._create_valveNregister()\n",
    "#         self.nid2nodes = self._create_nid2nodes()\n",
    "#         self.contraction_reg = ContractionRegister()\n",
    "#         self._init_degree_distribution()\n",
    "        \n",
    "#         self.adj_mtx_nodes = assemble_adjacency_mtx_nodes(self.nid2nodes)\n",
    "#         self.bfs_edges = get_bfs_edges(self.adj_mtx_nodes,self.nid2nodes)\n",
    "#         self.closed_pids = set()\n",
    "# #         self.deletion_reg = DeletionRegister()\n",
    "        \n",
    "#     def _create_valveNregister(self):\n",
    "#         valves = generate_valves_grid(self.grid_size)\n",
    "#         valve_register = ValveRegister()\n",
    "#         register_valves(valves,valve_register)\n",
    "#         return valve_register\n",
    "    \n",
    "#     def _create_nid2nodes(self):\n",
    "#         return get_nid2nodes(self.grid_size,self.valve_register.nid2v)\n",
    "    \n",
    "#     def _init_degree_distribution(self):\n",
    "#         self.degree_distribution = {}\n",
    "#         for i in range(10):\n",
    "#             self.degree_distribution[i] = []\n",
    "    \n",
    "#     def update_degree_distribution(self):    \n",
    "#         self._init_degree_distribution()\n",
    "#         normal_nids = self.nids-self.contraction_reg.contracted_nids\n",
    "#         for normal_nid in normal_nids:\n",
    "#             node = self.nid2nodes[normal_nid]\n",
    "#             degree = node.degree()\n",
    "#             self.degree_distribution[degree].append(normal_nid)\n",
    "        \n",
    "#         for cn1,cn2 in self.contraction_reg.npairs:\n",
    "#             degree = cn1.degree()+cn2.degree()-2\n",
    "#             self.degree_distribution[degree].append(cn1.nid)\n",
    "    \n",
    "#     def perform_contractions(self,identify_pairs_op):\n",
    "#         self.contraction_reg = register_contractions(identify_pairs_op,self.contraction_reg)\n",
    "    \n",
    "#     def reduce_degree_num(self,degree,desired_num,max_steps = 10):\n",
    "#         self.update_degree_distribution()\n",
    "#         nids = self.degree_distribution[degree]\n",
    "#         step = 0\n",
    "#         while (len(nids) > desired_num):\n",
    "#             if step > max_steps: \n",
    "#                 raise Exception(f\"Fail to reduce number of {degree} to {desired_num}\")\n",
    "#             nid2close = np.random.choice(nids,1)[0]\n",
    "#             node2close = self.nid2nodes[nid2close]\n",
    "#             pid2close = choose_pid2close(node2close,self.bfs_edges)\n",
    "#             if pid2close != None:\n",
    "#                 self.close_pipe_on_node(nid2close,pid2close)\n",
    "#                 self.closed_pids.add(pid2close)\n",
    "                \n",
    "#             nids = self.degree_distribution[degree]\n",
    "#             step+=1\n",
    "    \n",
    "#     def close_pipe_on_node(self,nid,pid2close):\n",
    "#         node1 = self.nid2nodes[nid]\n",
    "#         op = None\n",
    "#         for i, pid in enumerate(node1.pipe_neighbors):\n",
    "#             if pid ==  pid2close:\n",
    "#                 node1.closed_pipes[i] = True\n",
    "#                 op = i\n",
    "#                 break\n",
    "#         if op == None:\n",
    "#             raise Exception(f\"can not close pipe {pid2close}, not linked to this node\")\n",
    "            \n",
    "#         nid2 = node1.get_node_neighbor_ids()[op]\n",
    "#         node2 = self.nid2nodes[nid2]\n",
    "#         self._close_pipe_on_other_end(node2,op)\n",
    "#         self.update_degree_distribution()\n",
    "            \n",
    "#     def _close_pipe_on_other_end(self,node2,op):\n",
    "#         if op == 0:\n",
    "#             node2.closed_pipes[1] = True\n",
    "#         elif op == 1:\n",
    "#             node2.closed_pipes[0] = True\n",
    "#         elif op == 2:\n",
    "#             node2.closed_pipes[3] = True\n",
    "#         elif op == 3:\n",
    "#             node2.closed_pipes[2] = True\n",
    "        \n",
    "        "
   ]
  },
  {
   "cell_type": "code",
   "execution_count": 285,
   "metadata": {},
   "outputs": [
    {
     "name": "stderr",
     "output_type": "stream",
     "text": [
      "....."
     ]
    },
    {
     "name": "stdout",
     "output_type": "stream",
     "text": [
      "k dist after deletion  {0: [], 1: [], 2: [0, 1, 2, 6, 8], 3: [3, 4, 5, 7], 4: [], 5: [], 6: [], 7: [], 8: [], 9: []}\n",
      "k dist after contraction {0: [], 1: [], 2: [0, 2, 8], 3: [1, 5, 7, 3], 4: [4], 5: [], 6: [], 7: [], 8: [], 9: []}\n",
      "contraction reg npairs: [(<__main__.Node object at 0x7fc125342518>, <__main__.Node object at 0x7fc125342358>)], vpairs: [(<scripts.valves.Valve object at 0x7fc125333cc0>, <scripts.valves.Valve object at 0x7fc125333c88>)],        trivial_pids: [7],contracted_nids: {3, 6}\n",
      "k dist after reduction  {0: [], 1: [], 2: [0, 2, 6, 7, 8], 3: [1, 3, 4, 5], 4: [], 5: [], 6: [], 7: [], 8: [], 9: []}\n"
     ]
    },
    {
     "name": "stderr",
     "output_type": "stream",
     "text": [
      "\n",
      "----------------------------------------------------------------------\n",
      "Ran 5 tests in 0.021s\n",
      "\n",
      "OK\n"
     ]
    },
    {
     "data": {
      "text/plain": [
       "<unittest.main.TestProgram at 0x7fc125332cf8>"
      ]
     },
     "execution_count": 285,
     "metadata": {},
     "output_type": "execute_result"
    }
   ],
   "source": [
    "# class TestMesh(unittest.TestCase):\n",
    "    \n",
    "#     def setUp(self):\n",
    "#         grid_size = 3\n",
    "#         self.mesh = Mesh(grid_size)\n",
    "        \n",
    "        \n",
    "#     def test_contraction(self):\n",
    "#         n1,n2 = self.mesh.nid2nodes[3],self.mesh.nid2nodes[6]\n",
    "#         identify_pairs_op = [[n1,n2,3]]\n",
    "#         self.mesh.perform_contractions(identify_pairs_op)\n",
    "#         self.mesh.update_degree_distribution()\n",
    "#         print (\"k dist after contraction\", self.mesh.degree_distribution)\n",
    "#         print (\"contraction reg\", self.mesh.contraction_reg)\n",
    "#         self.assertEqual(len(self.mesh.degree_distribution[3]),4)\n",
    "#         self.assertEqual(len(self.mesh.degree_distribution[2]),3)\n",
    "        \n",
    "#     def test_close_pipe_on_node(self):\n",
    "#         nid = 1\n",
    "#         pid2close = 8\n",
    "#         self.mesh.close_pipe_on_node(nid,pid2close)\n",
    "        \n",
    "#         self.assertEqual(self.mesh.nid2nodes[1].closed_pipes, [False,False,True,True])\n",
    "#         self.assertEqual(self.mesh.nid2nodes[4].closed_pipes, [False,False,True,False])\n",
    "        \n",
    "#         degree_dist = self.mesh.degree_distribution\n",
    "#         self.assertEqual(len(degree_dist[4]),0)\n",
    "#         self.assertEqual(len(degree_dist[3]),4)\n",
    "#         self.assertEqual(len(degree_dist[2]),5)\n",
    "#         print (\"k dist after deletion \", self.mesh.degree_distribution)\n",
    "        \n",
    "#     def test_reduce_degree(self):\n",
    "#         k = 4\n",
    "#         num = 0\n",
    "#         self.mesh.reduce_degree_num(k,num)\n",
    "#         degree_dist = self.mesh.degree_distribution\n",
    "#         closed_pids = self.mesh.closed_pids\n",
    "#         self.assertEqual(len(degree_dist[k]),num)\n",
    "#         self.assertEqual(len(closed_pids),1)\n",
    "#         print (\"k dist after reduction \", self.mesh.degree_distribution)\n",
    "        \n",
    "# unittest.main(argv=['first-arg-is-ignored'], exit=False)"
   ]
  },
  {
   "cell_type": "code",
   "execution_count": 281,
   "metadata": {},
   "outputs": [
    {
     "name": "stdout",
     "output_type": "stream",
     "text": [
      "npairs: [(<__main__.Node object at 0x7fc1253594a8>, <__main__.Node object at 0x7fc125359c50>), (<__main__.Node object at 0x7fc12535bef0>, <__main__.Node object at 0x7fc12535b828>), (<__main__.Node object at 0x7fc1253f3208>, <__main__.Node object at 0x7fc1253f3a90>), (<__main__.Node object at 0x7fc12535b4a8>, <__main__.Node object at 0x7fc12535b240>)], vpairs: [(<scripts.valves.Valve object at 0x7fc125373eb8>, <scripts.valves.Valve object at 0x7fc125373358>), (<scripts.valves.Valve object at 0x7fc125368d30>, <scripts.valves.Valve object at 0x7fc125368b38>), (<scripts.valves.Valve object at 0x7fc125368c18>, <scripts.valves.Valve object at 0x7fc125368be0>), (<scripts.valves.Valve object at 0x7fc125368908>, <scripts.valves.Valve object at 0x7fc125368400>)],        trivial_pids: [0, 26, 19, 22],contracted_nids: {0, 1, 10, 11, 15, 16, 23, 24}\n"
     ]
    }
   ],
   "source": [
    "grid_size = 5\n",
    "contraction_ratio = 0.2\n",
    "mesh = Mesh(grid_size)\n",
    "\n",
    "nids2identify = get_nids2identify(grid_size,contraction_ratio)\n",
    "identify_pairs_op =  get_identify_pairs_op(nids2identify,mesh.nid2nodes)\n",
    "mesh.perform_contractions(identify_pairs_op)\n",
    "mesh.update_degree_distribution()\n",
    "print(mesh.contraction_reg)"
   ]
  },
  {
   "cell_type": "code",
   "execution_count": 130,
   "metadata": {},
   "outputs": [
    {
     "data": {
      "text/plain": [
       "{0: [],\n",
       " 1: [],\n",
       " 2: [0, 4, 24],\n",
       " 3: [1, 2, 3, 5, 9, 10, 19, 21, 20],\n",
       " 4: [6, 8, 11, 16, 17, 18, 23],\n",
       " 5: [14],\n",
       " 6: [7],\n",
       " 7: [],\n",
       " 8: [],\n",
       " 9: []}"
      ]
     },
     "execution_count": 130,
     "metadata": {},
     "output_type": "execute_result"
    }
   ],
   "source": [
    "mesh.degree_distribution"
   ]
  },
  {
   "cell_type": "code",
   "execution_count": 176,
   "metadata": {},
   "outputs": [
    {
     "name": "stdout",
     "output_type": "stream",
     "text": [
      "nid: 6, ntype: NodeType.LOWER_LEFT,        nneighbors: left: None, right: 7, up 3, down None,        pneighbors: [None, 4, 7, None],        vneighbors: left: None, right: valve with vid 8, links to nid 6 and pid 4, fail status 0 , up: valve with vid 15, links to nid 6 and pid 7, fail status 0 , down: None,        degree: 2\n"
     ]
    }
   ],
   "source": [
    "print(identify_pairs_op[0][1])"
   ]
  },
  {
   "cell_type": "code",
   "execution_count": 165,
   "metadata": {},
   "outputs": [
    {
     "name": "stderr",
     "output_type": "stream",
     "text": [
      "..\n",
      "----------------------------------------------------------------------\n",
      "Ran 2 tests in 0.003s\n",
      "\n",
      "OK\n"
     ]
    },
    {
     "data": {
      "text/plain": [
       "<unittest.main.TestProgram at 0x7fc1258fa0b8>"
      ]
     },
     "execution_count": 165,
     "metadata": {},
     "output_type": "execute_result"
    }
   ],
   "source": []
  },
  {
   "cell_type": "code",
   "execution_count": 153,
   "metadata": {},
   "outputs": [],
   "source": [
    "# def choose_pid2close(node,pid_blacklist):\n",
    "#     valid_pids = []\n",
    "#     pids = [pid for pid in node.pipe_neighbors if (pid != None and pid not in pid_blacklist) ]\n",
    "#     if len(pids):\n",
    "#         return np.random.choice(pids,1)[0]\n",
    "#     else:\n",
    "#         return None\n",
    "    "
   ]
  },
  {
   "cell_type": "code",
   "execution_count": 154,
   "metadata": {},
   "outputs": [
    {
     "name": "stdout",
     "output_type": "stream",
     "text": [
      "npairs: [(<__main__.Node object at 0x7fc125d52d30>, <__main__.Node object at 0x7fc125ade2e8>)], vpairs: [(<scripts.valves.Valve object at 0x7fc125c99da0>, <scripts.valves.Valve object at 0x7fc125c991d0>)],        trivial_pids: [7],contracted_nids: {3, 6}\n"
     ]
    }
   ],
   "source": [
    "grid_size = 3\n",
    "contraction_ratio = 0.2\n",
    "mesh = Mesh(grid_size)\n",
    "\n",
    "nids2identify = get_nids2identify(grid_size,contraction_ratio)\n",
    "identify_pairs_op =  get_identify_pairs_op(nids2identify,mesh.nid2nodes)\n",
    "mesh.perform_contractions(identify_pairs_op)\n",
    "mesh.update_degree_distribution()\n",
    "print(mesh.contraction_reg)"
   ]
  },
  {
   "cell_type": "code",
   "execution_count": 155,
   "metadata": {},
   "outputs": [
    {
     "ename": "TypeError",
     "evalue": "'method' object is not subscriptable",
     "output_type": "error",
     "traceback": [
      "\u001b[0;31m---------------------------------------------------------------------------\u001b[0m",
      "\u001b[0;31mTypeError\u001b[0m                                 Traceback (most recent call last)",
      "\u001b[0;32m<ipython-input-155-9f905b471c97>\u001b[0m in \u001b[0;36m<module>\u001b[0;34m\u001b[0m\n\u001b[1;32m      2\u001b[0m \u001b[0mnode\u001b[0m \u001b[0;34m=\u001b[0m \u001b[0mmesh\u001b[0m\u001b[0;34m.\u001b[0m\u001b[0mnid2nodes\u001b[0m\u001b[0;34m[\u001b[0m\u001b[0mnid\u001b[0m\u001b[0;34m]\u001b[0m\u001b[0;34m\u001b[0m\u001b[0;34m\u001b[0m\u001b[0m\n\u001b[1;32m      3\u001b[0m \u001b[0mpid2close\u001b[0m \u001b[0;34m=\u001b[0m \u001b[0mchoose_pid2close\u001b[0m\u001b[0;34m(\u001b[0m\u001b[0mnode\u001b[0m\u001b[0;34m,\u001b[0m\u001b[0mmesh\u001b[0m\u001b[0;34m.\u001b[0m\u001b[0mbfs_edges\u001b[0m\u001b[0;34m)\u001b[0m\u001b[0;34m\u001b[0m\u001b[0;34m\u001b[0m\u001b[0m\n\u001b[0;32m----> 4\u001b[0;31m \u001b[0mnode\u001b[0m\u001b[0;34m.\u001b[0m\u001b[0mclose_pipe\u001b[0m\u001b[0;34m(\u001b[0m\u001b[0mpid2close\u001b[0m\u001b[0;34m)\u001b[0m\u001b[0;34m\u001b[0m\u001b[0;34m\u001b[0m\u001b[0m\n\u001b[0m",
      "\u001b[0;32m<ipython-input-152-651151802740>\u001b[0m in \u001b[0;36mclose_pipe\u001b[0;34m(self, pid2close)\u001b[0m\n\u001b[1;32m     46\u001b[0m             \u001b[0;32mraise\u001b[0m\u001b[0;34m(\u001b[0m\u001b[0;34mf\"can not close pipe {pid2close}, not linked to this node\"\u001b[0m\u001b[0;34m)\u001b[0m\u001b[0;34m\u001b[0m\u001b[0;34m\u001b[0m\u001b[0m\n\u001b[1;32m     47\u001b[0m \u001b[0;34m\u001b[0m\u001b[0m\n\u001b[0;32m---> 48\u001b[0;31m         \u001b[0mself\u001b[0m\u001b[0;34m.\u001b[0m\u001b[0m_close_pipe_on_other_end\u001b[0m\u001b[0;34m(\u001b[0m\u001b[0mop\u001b[0m\u001b[0;34m)\u001b[0m\u001b[0;34m\u001b[0m\u001b[0;34m\u001b[0m\u001b[0m\n\u001b[0m\u001b[1;32m     49\u001b[0m \u001b[0;34m\u001b[0m\u001b[0m\n\u001b[1;32m     50\u001b[0m     \u001b[0;32mdef\u001b[0m \u001b[0m_close_pipe_on_other_end\u001b[0m\u001b[0;34m(\u001b[0m\u001b[0mself\u001b[0m\u001b[0;34m,\u001b[0m\u001b[0mop\u001b[0m\u001b[0;34m)\u001b[0m\u001b[0;34m:\u001b[0m\u001b[0;34m\u001b[0m\u001b[0;34m\u001b[0m\u001b[0m\n",
      "\u001b[0;32m<ipython-input-152-651151802740>\u001b[0m in \u001b[0;36m_close_pipe_on_other_end\u001b[0;34m(self, op)\u001b[0m\n\u001b[1;32m     49\u001b[0m \u001b[0;34m\u001b[0m\u001b[0m\n\u001b[1;32m     50\u001b[0m     \u001b[0;32mdef\u001b[0m \u001b[0m_close_pipe_on_other_end\u001b[0m\u001b[0;34m(\u001b[0m\u001b[0mself\u001b[0m\u001b[0;34m,\u001b[0m\u001b[0mop\u001b[0m\u001b[0;34m)\u001b[0m\u001b[0;34m:\u001b[0m\u001b[0;34m\u001b[0m\u001b[0;34m\u001b[0m\u001b[0m\n\u001b[0;32m---> 51\u001b[0;31m         \u001b[0mother_end_node\u001b[0m \u001b[0;34m=\u001b[0m \u001b[0mself\u001b[0m\u001b[0;34m.\u001b[0m\u001b[0mget_node_neighbor_ids\u001b[0m\u001b[0;34m[\u001b[0m\u001b[0mop\u001b[0m\u001b[0;34m]\u001b[0m\u001b[0;34m\u001b[0m\u001b[0;34m\u001b[0m\u001b[0m\n\u001b[0m\u001b[1;32m     52\u001b[0m         \u001b[0;32mif\u001b[0m \u001b[0mop\u001b[0m \u001b[0;34m==\u001b[0m \u001b[0;36m0\u001b[0m\u001b[0;34m:\u001b[0m\u001b[0;34m\u001b[0m\u001b[0;34m\u001b[0m\u001b[0m\n\u001b[1;32m     53\u001b[0m             \u001b[0mother_end_node\u001b[0m\u001b[0;34m.\u001b[0m\u001b[0mclosed_pipes\u001b[0m\u001b[0;34m[\u001b[0m\u001b[0;36m1\u001b[0m\u001b[0;34m]\u001b[0m \u001b[0;34m=\u001b[0m \u001b[0;32mTrue\u001b[0m\u001b[0;34m\u001b[0m\u001b[0;34m\u001b[0m\u001b[0m\n",
      "\u001b[0;31mTypeError\u001b[0m: 'method' object is not subscriptable"
     ]
    }
   ],
   "source": [
    "nid = 4\n",
    "node = mesh.nid2nodes[nid]\n",
    "pid2close = choose_pid2close(node,mesh.bfs_edges)\n",
    "node.close_pipe(pid2close)\n"
   ]
  },
  {
   "cell_type": "code",
   "execution_count": 120,
   "metadata": {},
   "outputs": [
    {
     "data": {
      "text/plain": [
       "12"
      ]
     },
     "execution_count": 120,
     "metadata": {},
     "output_type": "execute_result"
    }
   ],
   "source": [
    "len(mesh.bfs_edges)"
   ]
  },
  {
   "cell_type": "code",
   "execution_count": 157,
   "metadata": {},
   "outputs": [],
   "source": []
  },
  {
   "cell_type": "code",
   "execution_count": null,
   "metadata": {},
   "outputs": [],
   "source": []
  }
 ],
 "metadata": {
  "kernelspec": {
   "display_name": "Python 3",
   "language": "python",
   "name": "python3"
  },
  "language_info": {
   "codemirror_mode": {
    "name": "ipython",
    "version": 3
   },
   "file_extension": ".py",
   "mimetype": "text/x-python",
   "name": "python",
   "nbconvert_exporter": "python",
   "pygments_lexer": "ipython3",
   "version": "3.7.3"
  }
 },
 "nbformat": 4,
 "nbformat_minor": 2
}
