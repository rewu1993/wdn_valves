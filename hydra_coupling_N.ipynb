{
 "cells": [
  {
   "cell_type": "code",
   "execution_count": 1,
   "metadata": {},
   "outputs": [],
   "source": [
    "import wntr\n",
    "from scripts.valves import ValveStates,create_valvestates\n",
    "from scripts.segment import *\n",
    "from scripts.valves import *"
   ]
  },
  {
   "cell_type": "code",
   "execution_count": 2,
   "metadata": {},
   "outputs": [],
   "source": [
    "class HydroSegmentNet(object):\n",
    "    def __init__(self,vstates,src_pids):\n",
    "        self.vstates = vstates\n",
    "        \n",
    "        self.segments = simulate_segments(self.vstates)\n",
    "        self.sid2index = self._init_sid2index()\n",
    "        self.nid2seg = get_nid2seg_dict(self.segments)\n",
    "        self.pid2seg = get_pid2seg_dict(self.segments)\n",
    "        self.src_segments = self._get_src_segments(src_pids)\n",
    "        self.seg_adj_mtx = self._init_seg_adj_mtx()\n",
    "    \n",
    "    def _init_sid2index(self):\n",
    "        sid2index = {}\n",
    "        for i, seg in enumerate(self.segments):\n",
    "            sid2index[seg.sid] = i\n",
    "        return sid2index\n",
    "    \n",
    "    def _init_seg_adj_mtx(self):\n",
    "        A = np.zeros((len(self.segments),len(self.segments)))\n",
    "        linking_valves = self.vstates.normal_valves+self.vstates.white_valves\n",
    "        for v in linking_valves:\n",
    "            seg0 = self.nid2seg[v.nid]\n",
    "            seg1 = self.pid2seg[v.pid]\n",
    "            A[seg0.sid,seg1.sid] = 1\n",
    "            A[seg1.sid,seg0.sid] = 1 # symmetry\n",
    "        return A \n",
    "    \n",
    "    def _get_src_segments(self,src_pids):\n",
    "        src_segments = []\n",
    "        for src_pid in src_pids:\n",
    "            src_segments.append(self.pid2seg[src_pid])\n",
    "        return src_segments\n",
    "\n",
    "    def _adjust_index_mapping(self,sindex2delete):\n",
    "        # sid2index \n",
    "        for sid,sindex in self.sid2index.items():\n",
    "            if sindex:\n",
    "                if sindex > sindex2delete:\n",
    "                    self.sid2index[sid] -= 1\n",
    "                elif sindex== sindex2delete:\n",
    "                    self.sid2index[sid] = None\n",
    "                    \n",
    "        # nid/pid mappings\n",
    "        self.nid2seg = get_nid2seg_dict(self.segments)\n",
    "        self.pid2seg = get_pid2seg_dict(self.segments)\n",
    "        \n",
    "    def _adjust_seg_adj_mtx(self,sindex2delete,sindex2merge):\n",
    "        self.seg_adj_mtx[sindex2merge,:] += self.seg_adj_mtx[sindex2delete,:]\n",
    "        self.seg_adj_mtx[:,sindex2merge] += self.seg_adj_mtx[:,sindex2delete]\n",
    "        \n",
    "        self.seg_adj_mtx = np.delete(self.seg_adj_mtx,sindex2delete,0)\n",
    "        self.seg_adj_mtx = np.delete(self.seg_adj_mtx,sindex2delete,1)\n",
    "        \n",
    "                \n",
    "    def _merge_segment(self,seg_from,seg_to):\n",
    "        seg_to += seg_from \n",
    "        \n",
    "        sindex2delete = self.sid2index[seg_from.sid]\n",
    "        sindex2merge = self.sid2index[seg_to.sid]\n",
    "        self.segments.pop(sindex2delete)\n",
    "        \n",
    "        self._adjust_seg_adj_mtx(sindex2delete,sindex2merge)\n",
    "        self._adjust_index_mapping(sindex2delete)\n",
    "        \n",
    "        sindex2merge = self.sid2index[seg_to.sid] # index mapping has changed\n",
    "        return seg_to\n",
    "        \n",
    "    def valve_fail(self):\n",
    "        failed_valve = self.vstates.fail_valves(1)[0]\n",
    "        seg_from = self.nid2seg[failed_valve.nid]\n",
    "        seg_to = self.pid2seg[failed_valve.pid]\n",
    "        if seg_from != seg_to:\n",
    "            merged_segment = self._merge_segment(seg_from,seg_to)\n",
    "            \n",
    "    @property \n",
    "    def vfail_rate(self):\n",
    "        return self.vstates.fail_rate\n",
    "        \n",
    "        \n",
    "        \n",
    "def get_nid2seg_dict(segments):\n",
    "    nid2seg = {}\n",
    "    for seg in segments:\n",
    "        for nid in seg.nids:\n",
    "            nid2seg[nid] = seg\n",
    "    return nid2seg\n",
    "\n",
    "def get_pid2seg_dict(segments):\n",
    "    pid2seg = {}\n",
    "    for seg in segments:\n",
    "        for pid in seg.pids:\n",
    "            pid2seg[pid] = seg\n",
    "    return pid2seg\n",
    "        \n",
    "            \n",
    "            "
   ]
  },
  {
   "cell_type": "code",
   "execution_count": 3,
   "metadata": {},
   "outputs": [],
   "source": [
    "def get_valid_segments(segnet,src_nid):\n",
    "    valid_segs = []\n",
    "    for segment in segnet.segments:\n",
    "        if src_nid not in segment.nids:\n",
    "            if len(segment.pids) > 0:\n",
    "                valid_segs.append(segment)\n",
    "    return valid_segs\n",
    "    \n",
    "def get_segment_pnames(valid_segs):\n",
    "    segment_pnames = []\n",
    "    for segment in valid_segs:\n",
    "        pids = segment.pids\n",
    "        pnames = [lid2lname[pid] for pid in pids]\n",
    "        segment_pnames.append(pnames)\n",
    "    return segment_pnames\n",
    "\n",
    "def get_segment_nnames(valid_segs):\n",
    "    segment_nnames = []\n",
    "    for segment in valid_segs:\n",
    "        nids = segment.nids\n",
    "        nnames = [nid2nname[nid] for nid in nids]\n",
    "        segment_nnames.append(nnames)\n",
    "    return segment_nnames\n",
    "    "
   ]
  },
  {
   "cell_type": "code",
   "execution_count": 4,
   "metadata": {},
   "outputs": [],
   "source": [
    "import os\n",
    "import glob \n",
    "import multiprocessing as mp\n",
    "import copy\n",
    "\n",
    "\n",
    "def close_pipes(pipe_names,wn):\n",
    "    for pipe_name in pipe_names:\n",
    "        pipe = wn.get_link(pipe_name)        \n",
    "        pipe.status = wntr.network.LinkStatus.Closed\n",
    "    return wn\n",
    "\n",
    "def open_pipes(pipe_names,wn):\n",
    "    for pipe_name in pipe_names:\n",
    "        pipe = wn.get_link(pipe_name)        \n",
    "        pipe.status = wntr.network.LinkStatus.Open\n",
    "    return wn\n",
    "\n",
    "def remove_demand(node_names,wn):\n",
    "    demands = []\n",
    "    for node_name in node_names:\n",
    "        demand = copy.deepcopy(wn.get_node(node_name).demand_timeseries_list[0].base_value)\n",
    "        demands.append(demand)\n",
    "        wn.get_node(node_name).demand_timeseries_list[0].base_value = 0\n",
    "    return demands,wn\n",
    "\n",
    "def restore_demand(node_names,demands,wn):\n",
    "    for node_name,demand in zip(node_names,demands):\n",
    "        wn.get_node(node_name).demand_timeseries_list[0].base_value = demand\n",
    "    return wn\n",
    "    \n",
    "def isolate_pipes(pipe_names,node_names,wn):\n",
    "    wn = close_pipes(pipe_names,wn)\n",
    "    demands, wn = remove_demand(node_names,wn)\n",
    "    sim = wntr.sim.EpanetSimulator(wn)\n",
    "    \n",
    "    np.random.seed()\n",
    "    rand_name = './temp/'+str(np.random.randint(1e9))\n",
    "    try:\n",
    "        results = sim.run_sim(file_prefix=rand_name)\n",
    "    except:\n",
    "        print ('Issues when running hydrualic simulation, use the initial result')\n",
    "        results = init_result\n",
    "    wn = open_pipes(pipe_names,wn)\n",
    "    wn = restore_demand(node_names,demands,wn)\n",
    "    return results\n",
    "\n",
    "def remove_temps():\n",
    "    temp_files = glob.glob(\"./temp/*\")\n",
    "    for file in temp_files:\n",
    "        os.remove(file)\n",
    "        \n",
    "def hydrau_segments_sim(valid_segments):\n",
    "    segment_pnames = get_segment_pnames(valid_segments)\n",
    "    segment_nnames = get_segment_nnames(valid_segments)\n",
    "    pool = mp.Pool(mp.cpu_count()-1)\n",
    "    results = pool.starmap(isolate_pipes, [(pipe_name,node_name,wn) for pipe_name,node_name \n",
    "                                           in zip(segment_pnames,segment_nnames)])\n",
    "    pool.close()\n",
    "    remove_temps()\n",
    "    return results\n",
    "    \n",
    "    \n",
    "def find_direct_loses(valid_segments,init_demand):\n",
    "    direct_loses = []\n",
    "    for segment in valid_segments:\n",
    "        direct_lose = []\n",
    "        for nid in segment.nids:\n",
    "            nname = nid2nname[nid]\n",
    "            demand = init_demand[nname].to_numpy()[0]\n",
    "            direct_lose.append ((nname,max(demand,0)))\n",
    "        direct_loses.append(direct_lose)\n",
    "    return direct_loses\n",
    "        "
   ]
  },
  {
   "cell_type": "code",
   "execution_count": 5,
   "metadata": {},
   "outputs": [],
   "source": [
    "def analyze_drop_ratio(dvals,init_vals,keys,thre = -0.1):\n",
    "    drop_cond = dvals < thre\n",
    "    drop_ratio = abs(dvals[drop_cond]/init_vals[drop_cond])*100\n",
    "    impacted_keys = keys[drop_cond]\n",
    "    drops = [(key,drop) for key, drop in zip(impacted_keys,drop_ratio)]\n",
    "    return drops\n",
    "\n",
    "def analyze_drop(dvals,init_vals,keys,thre = -0.1):\n",
    "    drop_cond = dvals < thre\n",
    "    drops = abs(dvals[drop_cond])\n",
    "    impacted_keys = keys[drop_cond]\n",
    "    drops = [(key,drop) for key, drop in zip(impacted_keys,drops)]\n",
    "    return drops\n",
    "\n",
    "def find_hydrau_loses(init_result,hydrau_results):\n",
    "    init_pressure = init_result.node['pressure'].to_numpy().flatten()\n",
    "    init_demand = init_result.node['demand'].to_numpy().flatten()\n",
    "    keys = init_result.node['pressure'].keys().to_numpy().flatten()\n",
    "    pressure_loses,demand_loses = [],[]\n",
    "    \n",
    "    for res in hydrau_results:\n",
    "        pressure = res.node['pressure'].to_numpy().flatten()\n",
    "        demand = res.node['demand'].to_numpy().flatten()\n",
    "        pressure = [p if p >0 else 0 for p in pressure]\n",
    "        demand = [d if d >0 else 0 for d in demand]\n",
    "        dp = pressure-init_pressure\n",
    "        pressure_drop = analyze_drop(dp,init_pressure,keys)\n",
    "        pressure_loses.append(pressure_drop)\n",
    "\n",
    "        dd = demand-init_demand\n",
    "        demand_drop = analyze_drop(dd,init_demand,keys,-1e-6)\n",
    "        demand_loses.append(demand_drop)\n",
    "    return pressure_loses,demand_loses\n",
    "\n",
    "def fail_valves(segnet,fail_rate):\n",
    "    num_valves = len(segnet.vstates.valid_valves)\n",
    "    nv2fail = int(num_valves*fail_rate)\n",
    "    for i in range (nv2fail):\n",
    "        segnet.valve_fail()\n",
    "    return segnet\n",
    "    \n",
    "    \n",
    "    "
   ]
  },
  {
   "cell_type": "code",
   "execution_count": 6,
   "metadata": {},
   "outputs": [],
   "source": [
    "def summarize_loses(loses):\n",
    "    tot_lose = []\n",
    "    for lose in loses:\n",
    "        lose_sum = 0\n",
    "        if len(lose):\n",
    "            for k,l in lose:\n",
    "                lose_sum+=l\n",
    "        tot_lose.append(lose_sum)\n",
    "    return tot_lose\n",
    "\n",
    "def init_costs(wn):\n",
    "    pname2pcost = {}\n",
    "    pname2dcost = {}\n",
    "    for pipe_name in wn.pipe_name_list:\n",
    "        pname2pcost[pipe_name] = 0\n",
    "        pname2dcost[pipe_name] = 0\n",
    "    return pname2pcost,pname2dcost\n",
    "    \n",
    "    \n",
    "def update_cost(pressure_costs,demand_costs,valid_segments,\n",
    "               pname2pcost,pname2dcost):\n",
    "    for i in range(len(valid_segments)):\n",
    "        segment = valid_segments[i]\n",
    "        pressure_cost = pressure_costs[i]\n",
    "        demand_cost = demand_costs[i]\n",
    "        for pid in segment.pids:\n",
    "            pname = lid2lname[pid]\n",
    "            pname2pcost[pname] += pressure_cost\n",
    "            pname2dcost[pname] += demand_cost\n",
    "    return pname2pcost,pname2dcost\n"
   ]
  },
  {
   "cell_type": "code",
   "execution_count": 7,
   "metadata": {},
   "outputs": [
    {
     "name": "stderr",
     "output_type": "stream",
     "text": [
      "/home/rewu/Documents/research/valves/wntr/epanet/io.py:2173: UserWarning: Not all curves were used in \"./data/hill.inp\"; added with type None, units conversion left to user\n",
      "  warnings.warn('Not all curves were used in \"{}\"; added with type None, units conversion left to user'.format(self.wn.name))\n",
      "/home/rewu/anaconda3/lib/python3.7/site-packages/networkx/drawing/nx_pylab.py:579: MatplotlibDeprecationWarning: \n",
      "The iterable function was deprecated in Matplotlib 3.1 and will be removed in 3.3. Use np.iterable instead.\n",
      "  if not cb.iterable(width):\n"
     ]
    },
    {
     "data": {
      "text/plain": [
       "(<matplotlib.collections.PathCollection at 0x7f598c92a6d8>,\n",
       " <matplotlib.collections.LineCollection at 0x7f598d1b1128>)"
      ]
     },
     "execution_count": 7,
     "metadata": {},
     "output_type": "execute_result"
    },
    {
     "data": {
      "image/png": "[encoded data removed]",
      "text/plain": [
       "<Figure size 432x288 with 1 Axes>"
      ]
     },
     "metadata": {},
     "output_type": "display_data"
    }
   ],
   "source": [
    "# Create a water network model\n",
    "inp_file = './data/hill.inp'\n",
    "wn = wntr.network.WaterNetworkModel(inp_file)\n",
    "wn.options.hydraulic.demand_model = 'PDD'\n",
    "\n",
    "wntr.graphics.plot_network(wn, title=wn.name)"
   ]
  },
  {
   "cell_type": "code",
   "execution_count": 8,
   "metadata": {},
   "outputs": [],
   "source": [
    "nname2nid = {}\n",
    "nid2nname = {}\n",
    "for nid,nname in enumerate(wn.node_name_list):\n",
    "    nname2nid[nname] = nid\n",
    "    nid2nname[nid] = nname\n",
    "    \n",
    "lid2nids = {}\n",
    "lname2lid = {}\n",
    "lid2lname = {}\n",
    "\n",
    "for lid,pipe_name in enumerate(wn.pipe_name_list):\n",
    "    pipe = wn.get_link(pipe_name)\n",
    "    n1_name = pipe.start_node_name\n",
    "    n2_name = pipe.end_node_name\n",
    "    lname2lid[pipe.name] = lid\n",
    "    lid2lname[lid] = pipe.name\n",
    "    \n",
    "    lid2nids[lid] = (nname2nid[n1_name],nname2nid[n2_name])"
   ]
  },
  {
   "cell_type": "code",
   "execution_count": 9,
   "metadata": {},
   "outputs": [
    {
     "data": {
      "text/plain": [
       "{0: '101860',\n",
       " 1: '13813',\n",
       " 2: '13814',\n",
       " 3: '13815',\n",
       " 4: '13817',\n",
       " 5: '14358',\n",
       " 6: '14437',\n",
       " 7: '14438',\n",
       " 8: '14439',\n",
       " 9: '14440',\n",
       " 10: '14441',\n",
       " 11: '14442',\n",
       " 12: '14444',\n",
       " 13: '14445',\n",
       " 14: '14446',\n",
       " 15: '14447',\n",
       " 16: '2034654',\n",
       " 17: '2034797',\n",
       " 18: '2167291',\n",
       " 19: '2168021',\n",
       " 20: '2168216',\n",
       " 21: '2168494',\n",
       " 22: '2168513',\n",
       " 23: '2169164',\n",
       " 24: '2169384',\n",
       " 25: '2169526',\n",
       " 26: '2169677',\n",
       " 27: '2170367',\n",
       " 28: '2170453',\n",
       " 29: '2170616',\n",
       " 30: '2170648',\n",
       " 31: '2171540',\n",
       " 32: '2171943',\n",
       " 33: '2172038',\n",
       " 34: '2172348',\n",
       " 35: '2172442',\n",
       " 36: '2172548',\n",
       " 37: '2172882',\n",
       " 38: '2172954',\n",
       " 39: '2173345',\n",
       " 40: '2173807',\n",
       " 41: '2173844',\n",
       " 42: '2174319',\n",
       " 43: '2174588',\n",
       " 44: '2174807',\n",
       " 45: '2175466',\n",
       " 46: '2175553',\n",
       " 47: '2176313',\n",
       " 48: '2177131',\n",
       " 49: '2177157',\n",
       " 50: '2177258',\n",
       " 51: '2177296',\n",
       " 52: '2177573',\n",
       " 53: '2178040',\n",
       " 54: '2178214',\n",
       " 55: '2178419',\n",
       " 56: '2178430',\n",
       " 57: '2178812',\n",
       " 58: '2179416',\n",
       " 59: '2179573',\n",
       " 60: '2179709',\n",
       " 61: '2179739',\n",
       " 62: '2179982',\n",
       " 63: '2180156',\n",
       " 64: '2180752',\n",
       " 65: '2180756',\n",
       " 66: '2181592',\n",
       " 67: '2181764',\n",
       " 68: '2182239',\n",
       " 69: '2182821',\n",
       " 70: '2183019',\n",
       " 71: '2183065',\n",
       " 72: '2184238',\n",
       " 73: '2184289',\n",
       " 74: '2185270',\n",
       " 75: '2185326',\n",
       " 76: '2185875',\n",
       " 77: '2186380',\n",
       " 78: '2186400',\n",
       " 79: '2187309',\n",
       " 80: '2187475',\n",
       " 81: '2188355',\n",
       " 82: '2188499',\n",
       " 83: '2188999',\n",
       " 84: '2254665',\n",
       " 85: '2280310',\n",
       " 86: '2335757',\n",
       " 87: '58645',\n",
       " 88: '61731',\n",
       " 89: '61732',\n",
       " 90: '61733',\n",
       " 91: '61734',\n",
       " 92: '64866',\n",
       " 93: '64867',\n",
       " 94: '66685',\n",
       " 95: '87303',\n",
       " 96: '87304',\n",
       " 97: '8913',\n",
       " 98: '8914',\n",
       " 99: '8915',\n",
       " 100: '8916',\n",
       " 101: '8917',\n",
       " 102: '8918',\n",
       " 103: '8919',\n",
       " 104: '8920',\n",
       " 105: '8921',\n",
       " 106: '8922',\n",
       " 107: '8923',\n",
       " 108: '8924',\n",
       " 109: '8925',\n",
       " 110: '8926',\n",
       " 111: '8927',\n",
       " 112: '8928',\n",
       " 113: '8929',\n",
       " 114: '8930',\n",
       " 115: '8949',\n",
       " 116: '8950',\n",
       " 117: '8951',\n",
       " 118: '8953',\n",
       " 119: '8955',\n",
       " 120: '8957',\n",
       " 121: '8958',\n",
       " 122: '8959',\n",
       " 123: '8960',\n",
       " 124: '8961',\n",
       " 125: '8962',\n",
       " 126: '8963',\n",
       " 127: '8964',\n",
       " 128: '8965',\n",
       " 129: '8966',\n",
       " 130: '8967',\n",
       " 131: '8968',\n",
       " 132: '8969',\n",
       " 133: '8970',\n",
       " 134: '8971',\n",
       " 135: '8972',\n",
       " 136: '8973',\n",
       " 137: '8974',\n",
       " 138: '8975',\n",
       " 139: '8976',\n",
       " 140: '8977',\n",
       " 141: '8978',\n",
       " 142: '8979',\n",
       " 143: '8980',\n",
       " 144: '8981',\n",
       " 145: '8982',\n",
       " 146: '8983',\n",
       " 147: '8984',\n",
       " 148: '8985',\n",
       " 149: '8986',\n",
       " 150: '8987',\n",
       " 151: '8989',\n",
       " 152: '8991',\n",
       " 153: '8992',\n",
       " 154: '93115',\n",
       " 155: '93231',\n",
       " 156: '9440',\n",
       " 157: '9441',\n",
       " 158: '95153',\n",
       " 159: '95154',\n",
       " 160: '97134',\n",
       " 161: 'P11'}"
      ]
     },
     "execution_count": 9,
     "metadata": {},
     "output_type": "execute_result"
    }
   ],
   "source": [
    "lid2lname"
   ]
  },
  {
   "cell_type": "code",
   "execution_count": 10,
   "metadata": {},
   "outputs": [],
   "source": [
    "def cost_analysis(wn,vfail_rate,segnet):\n",
    "    segnet = copy.deepcopy(segnet)\n",
    "    segnet = fail_valves(segnet,vfail_rate)\n",
    "    \n",
    "    sim = wntr.sim.EpanetSimulator(wn)\n",
    "    rand_name = './temp/'+str(np.random.randint(1e6))\n",
    "    init_result = sim.run_sim(file_prefix=rand_name)\n",
    "    pname2pcost,pname2dcost = init_costs(wn)\n",
    "    \n",
    "    valid_segments = get_valid_segments(segnet,161)\n",
    "    init_demand = init_result.node['demand']\n",
    "    direct_loses = find_direct_loses(valid_segments,init_demand)\n",
    "    hydrau_results = hydrau_segments_sim(valid_segments)\n",
    "    pressure_loses,demand_loses = find_hydrau_loses(init_result,hydrau_results)\n",
    "    pressure_costs,demand_costs = summarize_loses(pressure_loses),summarize_loses(demand_loses)\n",
    "    \n",
    "    pname2pcost,pname2dcost = update_cost(pressure_costs,demand_costs,\n",
    "                                          valid_segments,pname2pcost,pname2dcost)\n",
    "    return pname2pcost,pname2dcost\n",
    "    \n",
    "    \n",
    "def average_cost(cost,num_sim):\n",
    "    avg_cost = {}\n",
    "    for k,item in cost.items():\n",
    "        item = item/num_sim\n",
    "        avg_cost[k] = item\n",
    "    return avg_cost\n",
    "\n",
    "def mc_cost(wn,vfail_rate,segnet,num_sim):\n",
    "    tot_pcost,tot_dcost = init_costs(wn)\n",
    "    for i in range(num_sim):\n",
    "        pname2pcost,pname2dcost = cost_analysis(wn,vfail_rate,segnet)  \n",
    "        for pname in wn.pipe_name_list:\n",
    "            tot_pcost[pname] += pname2pcost[pname]\n",
    "            tot_dcost[pname] += pname2dcost[pname]\n",
    "    avg_pcost = average_cost(tot_pcost,num_sim)\n",
    "    avg_dcost = average_cost(tot_dcost,num_sim)\n",
    "    \n",
    "    return pname2pcost,pname2dcost\n",
    "    "
   ]
  },
  {
   "cell_type": "code",
   "execution_count": 11,
   "metadata": {},
   "outputs": [],
   "source": [
    "inp_file = './data/hill.inp'\n",
    "wn = wntr.network.WaterNetworkModel(inp_file)\n",
    "wn.options.hydraulic.demand_model = 'PDD'\n",
    "\n",
    "sim = wntr.sim.EpanetSimulator(wn)\n",
    "rand_name = './temp/'+str(np.random.randint(1e6))\n",
    "init_result = sim.run_sim(file_prefix=rand_name)"
   ]
  },
  {
   "cell_type": "code",
   "execution_count": 12,
   "metadata": {},
   "outputs": [
    {
     "data": {
      "text/plain": [
       "0.0038873975"
      ]
     },
     "execution_count": 12,
     "metadata": {},
     "output_type": "execute_result"
    }
   ],
   "source": [
    "tot_demand = init_result.node['demand'].to_numpy().flatten()[:-1].sum()\n",
    "tot_demand"
   ]
  },
  {
   "cell_type": "code",
   "execution_count": 13,
   "metadata": {},
   "outputs": [],
   "source": [
    "def sum_cost(cost_dict):\n",
    "    tot = 0\n",
    "    for k,cost in cost_dict.items():\n",
    "        tot+= cost\n",
    "    return tot"
   ]
  },
  {
   "cell_type": "code",
   "execution_count": 14,
   "metadata": {},
   "outputs": [],
   "source": [
    "src_pids = [161]\n",
    "N1 = False\n",
    "vstate = create_valvestates(lid2nids,src_pids,N1)\n",
    "segnet = HydroSegmentNet(vstate,src_pids)"
   ]
  },
  {
   "cell_type": "code",
   "execution_count": 15,
   "metadata": {},
   "outputs": [],
   "source": [
    "# pcost0,dcost0,segnet0,hydrau_results0 = cost_analysis(wn,0,segnet)\n",
    "# pcost1,dcost1,segnet1,hydrau_results1 = cost_analysis(wn,0.15,segnet)"
   ]
  },
  {
   "cell_type": "code",
   "execution_count": 16,
   "metadata": {},
   "outputs": [],
   "source": [
    "# pcost,dcost,tot_dcost = mc_cost(wn,0.15,segnet,100)"
   ]
  },
  {
   "cell_type": "code",
   "execution_count": 17,
   "metadata": {},
   "outputs": [],
   "source": [
    "# dp = {}\n",
    "# dd = {}\n",
    "\n",
    "# for pipe_name in wn.pipe_name_list:\n",
    "#     dpp = pcost1[pipe_name]-pcost0[pipe_name]\n",
    "#     if dpp <-100:\n",
    "#         print (pipe_name,dpp)\n",
    "#     dp[pipe_name] = dpp\n",
    "#     dd[pipe_name] = (dcost1[pipe_name]-dcost0[pipe_name])"
   ]
  },
  {
   "cell_type": "code",
   "execution_count": 18,
   "metadata": {},
   "outputs": [],
   "source": [
    "# seg1 = segnet1.pid2seg[lname2lid['87303']]\n",
    "# seg0 = segnet0.pid2seg[lname2lid['87303']]\n",
    "\n",
    "# print (seg0)\n",
    "# print (seg1)\n",
    "# print (pcost0['87303'],pcost1['87303'])"
   ]
  },
  {
   "cell_type": "code",
   "execution_count": 19,
   "metadata": {},
   "outputs": [],
   "source": [
    "# def find_seg_idx(valid_segs,sid):\n",
    "#     for i,seg in enumerate(valid_segs):\n",
    "#         if seg.sid == sid:\n",
    "#             return i"
   ]
  },
  {
   "cell_type": "code",
   "execution_count": 20,
   "metadata": {},
   "outputs": [],
   "source": [
    "# valid_seg0 = get_valid_segments(segnet0,161)\n",
    "# valid_seg1 = get_valid_segments(segnet1,161)\n",
    "\n",
    "\n",
    "# id0 = find_seg_idx(valid_seg0,129)\n",
    "# id1 = find_seg_idx(valid_seg1,129)"
   ]
  },
  {
   "cell_type": "code",
   "execution_count": 21,
   "metadata": {},
   "outputs": [],
   "source": [
    "# res0 = hydrau_results0[id0].node['demand']\n",
    "# res1 = hydrau_results1[id1].node['demand']"
   ]
  },
  {
   "cell_type": "code",
   "execution_count": 22,
   "metadata": {},
   "outputs": [
    {
     "name": "stdout",
     "output_type": "stream",
     "text": [
      "0\n",
      "0.05\n",
      "0.1\n",
      "0.15\n",
      "0.2\n",
      "0.25\n"
     ]
    }
   ],
   "source": [
    "num_sim = 200\n",
    "fail_rates = [0,0.05,0.1,0.15,0.2,0.25]\n",
    "pcosts = []\n",
    "dcosts = []\n",
    "for fail_rate in fail_rates:\n",
    "    print (fail_rate)\n",
    "    pcost,dcost = mc_cost(wn,fail_rate,segnet,num_sim)\n",
    "    pcosts.append(pcost)\n",
    "    dcosts.append(dcost)\n",
    "\n"
   ]
  },
  {
   "cell_type": "code",
   "execution_count": 23,
   "metadata": {},
   "outputs": [],
   "source": [
    "def convert_costs_dict(costs):\n",
    "    costs_list = []\n",
    "    for cost_dict in costs:\n",
    "        cost = [c for k, c in cost_dict.items()]\n",
    "        costs_list.append(np.array(cost))\n",
    "    return costs_list\n",
    "\n",
    "pcosts = convert_costs_dict(pcosts)\n",
    "dcosts = convert_costs_dict(dcosts)"
   ]
  },
  {
   "cell_type": "code",
   "execution_count": 24,
   "metadata": {},
   "outputs": [],
   "source": [
    "from shapely.geometry import Point, LineString\n",
    "import pandas as pd\n",
    "import geopandas as gpd\n",
    "import networkx as nx\n",
    "\n",
    "\n",
    "def get_pipe_df(wn):\n",
    "    G = wn.get_graph()\n",
    "    pos = nx.get_node_attributes(G,'pos')\n",
    "\n",
    "    lines = []\n",
    "    pcost_list = []\n",
    "    dcost_list = []\n",
    "    for pipe_name in wn.pipe_name_list:\n",
    "        pipe = wn.get_link(pipe_name)  \n",
    "        start_node = pipe.start_node_name\n",
    "        end_node = pipe.end_node_name\n",
    "\n",
    "        loc_start = pos[start_node]\n",
    "        loc_end = pos[end_node]\n",
    "        l = LineString([Point(loc_start), Point(loc_end)])\n",
    "        lines.append(l)\n",
    "        \n",
    "    df_dict = {'pipe_names':wn.pipe_name_list,\n",
    "              'geometry':lines}\n",
    "    df = pd.DataFrame.from_dict(df_dict)\n",
    "    gdf = gpd.GeoDataFrame(df, geometry='geometry')\n",
    "    return gdf\n",
    "\n"
   ]
  },
  {
   "cell_type": "code",
   "execution_count": 25,
   "metadata": {},
   "outputs": [],
   "source": [
    "pipe_data = get_pipe_df(wn)\n",
    "tot_demand = init_result.node['demand'].to_numpy().flatten()[:-1].sum()"
   ]
  },
  {
   "cell_type": "code",
   "execution_count": 26,
   "metadata": {},
   "outputs": [
    {
     "name": "stdout",
     "output_type": "stream",
     "text": [
      "0.9981162715392274\n",
      "0.9981162715392274\n",
      "0.9981162715392274\n",
      "0.9981162715392274\n",
      "0.9981162715392274\n",
      "0.9981162715392274\n"
     ]
    }
   ],
   "source": [
    "for dcost in dcosts:\n",
    "    print((dcost/tot_demand).max())"
   ]
  },
  {
   "cell_type": "code",
   "execution_count": 27,
   "metadata": {},
   "outputs": [
    {
     "data": {
      "application/vnd.jupyter.widget-view+json": {
       "model_id": "04495689cdcb40f4aa0a8311a8adb8b1",
       "version_major": 2,
       "version_minor": 0
      },
      "text/plain": [
       "interactive(children=(IntSlider(value=2, description='i', max=5), Output()), _dom_classes=('widget-interact',)…"
      ]
     },
     "metadata": {},
     "output_type": "display_data"
    }
   ],
   "source": [
    "import ipywidgets as widgets\n",
    "from ipywidgets import interact, interact_manual\n",
    "pipe_cost = pipe_data.copy()\n",
    "\n",
    "@interact\n",
    "def plot_demand_cost(i=(0,len(fail_rates)-1,1)):\n",
    "    dcost = dcosts[i]/tot_demand*100\n",
    "    pipe_cost['dcost'] = dcost\n",
    "    base = pipe_cost[pipe_cost['dcost']<3]\n",
    "    others = pipe_cost[(pipe_cost['dcost']>3)]\n",
    "\n",
    "    base_ax = base.plot(figsize = (18,10),\n",
    "                         linewidth=2,\n",
    "                        color = 'black',\n",
    "                        alpha = 0.5)\n",
    "\n",
    "    hig_ax = others.plot(ax= base_ax,\n",
    "                         column='dcost',\n",
    "                        cmap = 'RdBu',\n",
    "                        linewidth=5,\n",
    "                        alpha = 1,\n",
    "                     legend=True)\n",
    "    \n",
    "    vfail_rate = fail_rates[i]\n",
    "    title = f'''Demand Cost for Valve Failure Rate {round(vfail_rate, 2)} '''\n",
    "    hig_ax.set_title(title, fontsize=25)\n",
    "    hig_ax.plot()"
   ]
  },
  {
   "cell_type": "code",
   "execution_count": 28,
   "metadata": {},
   "outputs": [
    {
     "data": {
      "application/vnd.jupyter.widget-view+json": {
       "model_id": "4ec0b801d0584e96859c1a8ca526edc5",
       "version_major": 2,
       "version_minor": 0
      },
      "text/plain": [
       "interactive(children=(IntSlider(value=3, description='i', max=5, min=1), Output()), _dom_classes=('widget-inte…"
      ]
     },
     "metadata": {},
     "output_type": "display_data"
    }
   ],
   "source": [
    "import ipywidgets as widgets\n",
    "from ipywidgets import interact, interact_manual\n",
    "pipe_cost = pipe_data.copy()\n",
    "@interact\n",
    "def plot_demand_cost_diff(i=(1,len(fail_rates)-1,1)):\n",
    "    dcost_diff = (dcosts[i]-dcosts[0])/tot_demand*100\n",
    "    pipe_cost['dcost_diff'] = dcost_diff\n",
    "    base = pipe_cost[pipe_cost['dcost_diff']<1]\n",
    "    others = pipe_cost[(pipe_cost['dcost_diff']>1)]\n",
    "\n",
    "    base_ax = base.plot(figsize = (18,10),\n",
    "                         linewidth=2,\n",
    "                        color = 'black',\n",
    "                        alpha = 0.5)\n",
    "\n",
    "    hig_ax = others.plot(ax= base_ax,\n",
    "                         column='dcost_diff',\n",
    "                        cmap = 'RdBu',\n",
    "                        linewidth=5,\n",
    "                        alpha = 1,\n",
    "                     legend=True)\n",
    "    \n",
    "    vfail_rate = fail_rates[i]\n",
    "    title = f'''Demand Cost Increment for Valve Failure Rate {round(vfail_rate, 2)} '''\n",
    "    hig_ax.set_title(title, fontsize=25)\n",
    "    hig_ax.plot()"
   ]
  },
  {
   "cell_type": "code",
   "execution_count": 29,
   "metadata": {},
   "outputs": [
    {
     "data": {
      "application/vnd.jupyter.widget-view+json": {
       "model_id": "9698ebef6273440ea70a3363790be382",
       "version_major": 2,
       "version_minor": 0
      },
      "text/plain": [
       "interactive(children=(IntSlider(value=2, description='i', max=5), Output()), _dom_classes=('widget-interact',)…"
      ]
     },
     "metadata": {},
     "output_type": "display_data"
    }
   ],
   "source": [
    "import ipywidgets as widgets\n",
    "from ipywidgets import interact, interact_manual\n",
    "pipe_cost = pipe_data.copy()\n",
    "\n",
    "@interact\n",
    "def plot_pressure_cost(i=(0,len(fail_rates)-1,1)):\n",
    "    pcost = pcosts[i]\n",
    "    pipe_cost['pcost'] = pcost\n",
    "    base = pipe_cost[pipe_cost['pcost']<10]\n",
    "    others = pipe_cost[(pipe_cost['pcost']>10)]\n",
    "\n",
    "    base_ax = base.plot(figsize = (18,10),\n",
    "                         linewidth=2,\n",
    "                        color = 'black',\n",
    "                        alpha = 0.5)\n",
    "\n",
    "    hig_ax = others.plot(ax= base_ax,\n",
    "                         column='pcost',\n",
    "                        cmap = 'RdBu',\n",
    "                        linewidth=5,\n",
    "                        alpha = 1,\n",
    "                     legend=True)\n",
    "    \n",
    "    vfail_rate = fail_rates[i]\n",
    "    title = f'''Pressure Cost for Valve Failure Rate {round(vfail_rate, 2)} '''\n",
    "    hig_ax.set_title(title, fontsize=25)\n",
    "    hig_ax.plot()"
   ]
  },
  {
   "cell_type": "code",
   "execution_count": 30,
   "metadata": {},
   "outputs": [
    {
     "data": {
      "application/vnd.jupyter.widget-view+json": {
       "model_id": "f460dccbf4294a969bfdd0bc0d1eb717",
       "version_major": 2,
       "version_minor": 0
      },
      "text/plain": [
       "interactive(children=(IntSlider(value=3, description='i', max=5, min=1), Output()), _dom_classes=('widget-inte…"
      ]
     },
     "metadata": {},
     "output_type": "display_data"
    }
   ],
   "source": [
    "import ipywidgets as widgets\n",
    "from ipywidgets import interact, interact_manual\n",
    "pipe_cost = pipe_data.copy()\n",
    "@interact\n",
    "def plot_pressure_cost_diff(i=(1,len(fail_rates)-1,1)):\n",
    "    pcost_diff = (pcosts[i]-pcosts[0])\n",
    "    pipe_cost['pcost_diff'] = pcost_diff\n",
    "    base = pipe_cost[pipe_cost['pcost_diff']<10]\n",
    "    others = pipe_cost[(pipe_cost['pcost_diff']>10)]\n",
    "\n",
    "    base_ax = base.plot(figsize = (18,10),\n",
    "                         linewidth=2,\n",
    "                        color = 'black',\n",
    "                        alpha = 0.5)\n",
    "\n",
    "    hig_ax = others.plot(ax= base_ax,\n",
    "                         column='pcost_diff',\n",
    "                        cmap = 'RdBu',\n",
    "                        linewidth=5,\n",
    "                        alpha = 1,\n",
    "                     legend=True)\n",
    "    \n",
    "    vfail_rate = fail_rates[i]\n",
    "    title = f'''Pressure Cost Increment for Valve Failure Rate {round(vfail_rate, 2)} '''\n",
    "    hig_ax.set_title(title, fontsize=25)\n",
    "    hig_ax.plot()"
   ]
  },
  {
   "cell_type": "code",
   "execution_count": 34,
   "metadata": {},
   "outputs": [
    {
     "data": {
      "text/plain": [
       "11136.931803688125"
      ]
     },
     "execution_count": 34,
     "metadata": {},
     "output_type": "execute_result"
    }
   ],
   "source": [
    "(15750/2)/np.sin(np.pi/4)"
   ]
  },
  {
   "cell_type": "code",
   "execution_count": 36,
   "metadata": {},
   "outputs": [
    {
     "data": {
      "text/plain": [
       "267637556059.21783"
      ]
     },
     "execution_count": 36,
     "metadata": {},
     "output_type": "execute_result"
    }
   ],
   "source": [
    "5550 / ( 2.33E-5*2 * 445E-6)"
   ]
  },
  {
   "cell_type": "code",
   "execution_count": null,
   "metadata": {},
   "outputs": [],
   "source": []
  }
 ],
 "metadata": {
  "kernelspec": {
   "display_name": "Python 3",
   "language": "python",
   "name": "python3"
  },
  "language_info": {
   "codemirror_mode": {
    "name": "ipython",
    "version": 3
   },
   "file_extension": ".py",
   "mimetype": "text/x-python",
   "name": "python",
   "nbconvert_exporter": "python",
   "pygments_lexer": "ipython3",
   "version": "3.7.3"
  }
 },
 "nbformat": 4,
 "nbformat_minor": 2
}
