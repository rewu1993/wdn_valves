{
 "cells": [
  {
   "cell_type": "code",
   "execution_count": 1,
   "metadata": {},
   "outputs": [],
   "source": [
    "import numpy as np\n",
    "from scripts.mesh import Mesh\n",
    "from scripts.topology_operations import *"
   ]
  },
  {
   "cell_type": "code",
   "execution_count": 2,
   "metadata": {},
   "outputs": [],
   "source": [
    "# from functools import partial\n",
    "# from multiprocessing import Pool\n",
    "\n",
    "# pool = Pool(processes=num_test)"
   ]
  },
  {
   "cell_type": "code",
   "execution_count": 3,
   "metadata": {},
   "outputs": [],
   "source": [
    "from scripts.grid import *\n",
    "from scripts.segment import *"
   ]
  },
  {
   "cell_type": "code",
   "execution_count": 4,
   "metadata": {},
   "outputs": [],
   "source": [
    "class SegmentReport(object):\n",
    "    def __init__(self,grid_size):\n",
    "        self.grid_size = grid_size\n",
    "        self.num_sim = 0\n",
    "        self.segments = {}\n",
    "        self.segment_graph = None\n",
    "    \n",
    "    def __str__(self):  \n",
    "        pipe_seg_ratio = self.num_pipe_segments/self.num_pipes\n",
    "#         print (self.pipe_seg_report)\n",
    "        return \"pipes number:  %d, segment number: %d, pipe segment number %d, pipe_seg_ratio is %f\" % (\n",
    "            self.num_pipes, self.num_segments,self.num_pipe_segments, pipe_seg_ratio)  \n",
    "\n",
    "    def get_segments_stats(self,trivial_pids = {}):\n",
    "        self.pipe_seg_report.update_stat(trivial_pids)\n",
    "        return self.pipe_seg_report.stat"
   ]
  },
  {
   "cell_type": "code",
   "execution_count": 5,
   "metadata": {},
   "outputs": [],
   "source": [
    "def generate_sim_report_topo(valve_register,valid_vids,num_simulation,fail_rate):\n",
    "    report = SegmentReport(grid_size)\n",
    "    for i in range(num_simulation):\n",
    "        valve_register.recover_valves()\n",
    "        vids2fail = generate_vids2fail(valid_vids,fail_rate) \n",
    "        valves_dict = fail_valves(valve_register.vid2v,vids2fail)\n",
    "        segments = simulate_segments(grid_size,valves_dict)\n",
    "        report = update_segment_report(segments,report)\n",
    "    return report\n",
    "\n",
    "def generate_vids2fail(vids,fail_rate):\n",
    "    num_failed_valves = int(fail_rate*len(vids))\n",
    "    rand_fvids = list(np.random.choice(vids, num_failed_valves, replace=False))\n",
    "    return rand_fvids\n",
    "\n",
    "\n",
    "def fail_valves(valves_dict, vids2fail):\n",
    "    for vid,v in valves_dict.items():\n",
    "        if vid in vids2fail:\n",
    "            v.fail = True\n",
    "    return valves_dict       "
   ]
  },
  {
   "cell_type": "code",
   "execution_count": 6,
   "metadata": {},
   "outputs": [],
   "source": [
    "# def get_trivial_pids(mesh):\n",
    "#     trivial_pids = mesh.closed_pids # always closed pipes \n",
    "#     contraction_reg = mesh.contraction_reg\n",
    "#     trivial_pids.update(set(contraction_reg.trivial_pids)) # always open pipes \n",
    "    \n",
    "#     return trivial_pids\n",
    "    \n",
    "    \n",
    "def get_simulation_results(reports,trivial_pids = {}):\n",
    "    ave_num_segments = []\n",
    "    ave_seg_pipe_size = []\n",
    "    ave_max_pipe_seg = []\n",
    "    for report in reports:\n",
    "        stat = report.get_segments_stats(trivial_pids)\n",
    "        ave_num_segments.append(stat.num_multi_pipe_seg)\n",
    "        ave_seg_pipe_size.append(np.mean(stat.seg_sizes_mean))\n",
    "        ave_max_pipe_seg.append(np.mean(stat.seg_sizes_max))\n",
    "    return ave_num_segments,ave_seg_pipe_size,ave_max_pipe_seg"
   ]
  },
  {
   "cell_type": "code",
   "execution_count": 7,
   "metadata": {},
   "outputs": [],
   "source": [
    "def get_vids2open(mesh):\n",
    "    contraction_reg = mesh.contraction_reg\n",
    "    vids2open = []\n",
    "    for v1,v2 in contraction_reg.vpairs:\n",
    "        vids2open.append(v1.vid)\n",
    "        vids2open.append(v2.vid)\n",
    "    return vids2open\n",
    "\n",
    "\n",
    "def get_vids2close(mesh):\n",
    "    vids2close = []\n",
    "    for pid in mesh.closed_pids:\n",
    "        v1,v2 = valve_register.pid2v[pid]\n",
    "        vids2close.append(v1.vid)\n",
    "        vids2close.append(v2.vid)\n",
    "    return vids2close\n",
    "\n",
    "\n"
   ]
  },
  {
   "cell_type": "code",
   "execution_count": 8,
   "metadata": {},
   "outputs": [],
   "source": [
    "def simulate_segments(grid_size,valves_dict):\n",
    "    A = assemble_adjacency_mtx(grid_size,valves_dict)\n",
    "    segments = find_segments(A,grid_size*grid_size)\n",
    "    return segments"
   ]
  },
  {
   "cell_type": "code",
   "execution_count": 25,
   "metadata": {},
   "outputs": [],
   "source": [
    "from scripts.graph import *\n",
    "from scipy.sparse import lil_matrix\n",
    "\n",
    "class SegmentSummary(object):\n",
    "    def __init__(self,segments,A_diff,num_closed_pipes):\n",
    "        self.segments = segments\n",
    "        self.num_closed_pipes = num_closed_pipes\n",
    "        self.pipe_sids = self._get_pipe_seg_ids()\n",
    "        self.id2sid = self._get_id2sid()\n",
    "        \n",
    "        self.segment_graph = self.convert2seg_graph(A_diff)\n",
    "        self.consequences = self._seg_iso_consequences()\n",
    "        \n",
    "    def _get_pipe_seg_ids(self):\n",
    "        sids = []\n",
    "        for seg in self.segments:\n",
    "            if len(seg.pids):\n",
    "                sids.append(seg.sid)\n",
    "        return sids\n",
    "    \n",
    "    def _get_id2sid(self):\n",
    "        id2sid ={}\n",
    "        for sid, seg in enumerate(self.segments):\n",
    "            for id in seg.ids:\n",
    "                id2sid[id] = sid\n",
    "        return id2sid\n",
    "    \n",
    "    def convert2seg_graph(self,A_diff):\n",
    "        segment_graph = lil_matrix((len(self.segments), len(self.segments)), \n",
    "                                   dtype=np.int8)\n",
    "        for i in range(A_diff.shape[0]):\n",
    "            searching_sid = self.id2sid[i]\n",
    "            nearby_ids = np.nonzero(A_diff[i,:])[1]\n",
    "            for nearby_id in nearby_ids:\n",
    "                nearby_sid = self.id2sid[nearby_id]\n",
    "                segment_graph[searching_sid,nearby_sid] = 1\n",
    "                \n",
    "        return segment_graph\n",
    "    \n",
    "    def _iso_consequence(self,id):\n",
    "        sid = self.id2sid[id]\n",
    "        seg = self.segments[sid]\n",
    "        direct_consequence = len(seg.ids)\n",
    "        unintend_consequence = 0\n",
    "        \n",
    "        segment_graph = self.segment_graph.copy()\n",
    "        segment_graph[sid,:] = 0\n",
    "        segment_graph[:,sid] = 0\n",
    "        \n",
    "        components = bfs(segment_graph)\n",
    "        for iso_component in components[1:]:\n",
    "            unintend_consequence += len(iso_component)\n",
    "        unintend_consequence -= (self.num_closed_pipes+1)\n",
    "        unintend_consequence = max(0,unintend_consequence)\n",
    "        return direct_consequence,unintend_consequence\n",
    "    \n",
    "    def _seg_iso_consequences(self):\n",
    "        consequences = {}\n",
    "        for sid in self.pipe_sids:\n",
    "            direct,unintend = self._iso_consequence(sid)\n",
    "            consequences[sid] = (direct,unintend)\n",
    "        return consequences\n",
    "        \n",
    "    \n",
    "    def pipe_iso_consequences(self,num_nodes,pids):\n",
    "        direct_consequences = []\n",
    "        unintend_consequences = []\n",
    "        for pid in pids:\n",
    "            id = num_nodes + pid\n",
    "            sid = self.id2sid[id]\n",
    "            direct,unintened = self.consequences[sid]\n",
    "            direct_consequences.append(direct)\n",
    "            unintend_consequences.append(unintened)\n",
    "        return np.array(direct_consequences),np.array(unintend_consequences)\n",
    "            \n",
    "                \n",
    "        \n",
    "        "
   ]
  },
  {
   "cell_type": "code",
   "execution_count": 26,
   "metadata": {},
   "outputs": [],
   "source": [
    "def create_null_valves_dict(valves_dict,valid_vids):\n",
    "    null_dict = valves_dict.copy()\n",
    "    for vid,v in null_dict.items():\n",
    "        if vid in valid_vids:\n",
    "            v.fail = True\n",
    "    return null_dict       \n",
    "\n",
    "def create_mtx_diff(grid_size, valves_dict,valid_vids):\n",
    "    A = assemble_adjacency_mtx(grid_size,valves_dict)\n",
    "    null_valves = create_null_valves_dict(valves_dict,valid_vids)\n",
    "    A_null = assemble_adjacency_mtx(grid_size,null_valves)\n",
    "    A_diff = A_null - A\n",
    "    return A_diff\n",
    "    \n",
    "\n",
    "        \n",
    "        \n",
    "    \n",
    "    "
   ]
  },
  {
   "cell_type": "code",
   "execution_count": 22,
   "metadata": {},
   "outputs": [],
   "source": [
    "# class TestSegmentSummary(unittest.TestCase):\n",
    "#     def setUp(self):\n",
    "#         self.grid_size = 10\n",
    "#         valves = generate_valves_grid(self.grid_size)\n",
    "#         self.valve_register = ValveRegister()\n",
    "#         register_valves(valves,self.valve_register)\n",
    "    \n",
    "#     def test_normal_condition(self):\n",
    "#         fail_rate = 0.1\n",
    "#         valid_vids = self.valve_register.vid2valves.keys()\n",
    "#         vids2fail = generate_vids2fail(valid_vids,fail_rate) \n",
    "#         valves_dict = fail_valves(self.valve_register.vid2v,vids2fail)\n",
    "#         segments = simulate_segments(grid_size,valves_dict)\n",
    "        \n",
    "#         mtx_diff = create_mtx_diff(self.grid_size, valves_dict)\n",
    "#         seg_sum = SegmentSummary(segments,mtx_diff)\n",
    "        \n",
    "    \n",
    "\n",
    "        "
   ]
  },
  {
   "cell_type": "code",
   "execution_count": 30,
   "metadata": {},
   "outputs": [
    {
     "data": {
      "text/plain": [
       "{0: [],\n",
       " 1: [],\n",
       " 2: [0, 9, 90, 99],\n",
       " 3: [1,\n",
       "  2,\n",
       "  3,\n",
       "  4,\n",
       "  5,\n",
       "  6,\n",
       "  7,\n",
       "  8,\n",
       "  10,\n",
       "  19,\n",
       "  20,\n",
       "  29,\n",
       "  30,\n",
       "  39,\n",
       "  40,\n",
       "  49,\n",
       "  50,\n",
       "  59,\n",
       "  60,\n",
       "  69,\n",
       "  70,\n",
       "  79,\n",
       "  80,\n",
       "  89,\n",
       "  91,\n",
       "  92,\n",
       "  93,\n",
       "  94,\n",
       "  95,\n",
       "  96,\n",
       "  97,\n",
       "  98],\n",
       " 4: [11,\n",
       "  12,\n",
       "  13,\n",
       "  14,\n",
       "  15,\n",
       "  16,\n",
       "  17,\n",
       "  18,\n",
       "  21,\n",
       "  22,\n",
       "  23,\n",
       "  24,\n",
       "  25,\n",
       "  26,\n",
       "  27,\n",
       "  28,\n",
       "  31,\n",
       "  32,\n",
       "  33,\n",
       "  34,\n",
       "  35,\n",
       "  36,\n",
       "  37,\n",
       "  38,\n",
       "  41,\n",
       "  42,\n",
       "  43,\n",
       "  44,\n",
       "  45,\n",
       "  46,\n",
       "  47,\n",
       "  48,\n",
       "  51,\n",
       "  52,\n",
       "  53,\n",
       "  54,\n",
       "  55,\n",
       "  56,\n",
       "  57,\n",
       "  58,\n",
       "  61,\n",
       "  62,\n",
       "  63,\n",
       "  64,\n",
       "  65,\n",
       "  66,\n",
       "  67,\n",
       "  68,\n",
       "  71,\n",
       "  72,\n",
       "  73,\n",
       "  74,\n",
       "  75,\n",
       "  76,\n",
       "  77,\n",
       "  78,\n",
       "  81,\n",
       "  82,\n",
       "  83,\n",
       "  84,\n",
       "  85,\n",
       "  86,\n",
       "  87,\n",
       "  88],\n",
       " 5: [],\n",
       " 6: [],\n",
       " 7: [],\n",
       " 8: [],\n",
       " 9: []}"
      ]
     },
     "execution_count": 30,
     "metadata": {},
     "output_type": "execute_result"
    }
   ],
   "source": [
    "grid_size = 10\n",
    "contraction_ratio = 0.\n",
    "mesh = Mesh(grid_size)\n",
    "\n",
    "nids2identify = get_nids2identify(grid_size,contraction_ratio)\n",
    "identify_pairs_op =  get_identify_pairs_op(nids2identify,mesh.nid2nodes)\n",
    "mesh.perform_contractions(identify_pairs_op)\n",
    "\n",
    "mesh.degree_distribution\n",
    "\n",
    "\n",
    "# mesh.reduce_degree_num(6,0)\n",
    "# mesh.reduce_degree_num(5,0)\n",
    "# mesh.reduce_degree_num(4,30)\n",
    "# mesh.reduce_degree_num(3,80)"
   ]
  },
  {
   "cell_type": "code",
   "execution_count": 31,
   "metadata": {},
   "outputs": [
    {
     "name": "stdout",
     "output_type": "stream",
     "text": [
      "1.8181818181818181\n",
      "360 360\n"
     ]
    }
   ],
   "source": [
    "valve_register = mesh.valve_register\n",
    "\n",
    "num_nodes = grid_size*grid_size\n",
    "valid_pids = mesh.valid_pids\n",
    "print (len(valid_pids)/(len(mesh.bfs_edges)-len(mesh.get_open_pids())))\n",
    "\n",
    "valid_vids = mesh.valid_vids\n",
    "trivial_pids = list(mesh.get_open_pids()) +list(mesh.get_closed_pids())\n",
    "print (len(valid_vids),len(valve_register.vid2v))\n",
    "\n",
    "num_closed_pipes = len(mesh.get_closed_pids())"
   ]
  },
  {
   "cell_type": "code",
   "execution_count": 33,
   "metadata": {},
   "outputs": [
    {
     "name": "stdout",
     "output_type": "stream",
     "text": [
      "fail rate : 0.0\n",
      "1.0 0.0 1.0\n",
      "fail rate : 0.1111111111111111\n",
      "1.3944444444444444 0.0 1.3944444444444444\n",
      "fail rate : 0.2222222222222222\n",
      "2.327777777777778 0.0 2.327777777777778\n",
      "fail rate : 0.3333333333333333\n",
      "2.8444444444444446 0.8777777777777778 3.7222222222222223\n",
      "fail rate : 0.4444444444444444\n",
      "5.916666666666667 0.0 5.916666666666667\n",
      "fail rate : 0.5555555555555556\n",
      "20.733333333333334 0.48333333333333334 21.216666666666665\n",
      "fail rate : 0.6666666666666666\n",
      "33.92777777777778 16.127777777777776 50.05555555555556\n",
      "fail rate : 0.7777777777777777\n",
      "229.42222222222222 10.511111111111111 239.93333333333334\n",
      "fail rate : 0.8888888888888888\n",
      "275.0 1.0 276.0\n",
      "fail rate : 1.0\n",
      "280.0 0.0 280.0\n"
     ]
    }
   ],
   "source": [
    "fail_rates = np.linspace(0,0.9,10)\n",
    "\n",
    "for fail_rate in fail_rates:\n",
    "    print (f'fail rate : {fail_rate}')\n",
    "    valve_register.recover_valves()\n",
    "    vids2fail = generate_vids2fail(valid_vids,fail_rate) \n",
    "    valves_dict = fail_valves(valve_register.vid2v,vids2fail)\n",
    "    segments = simulate_segments(grid_size,valves_dict)\n",
    "    mtx_diff = create_mtx_diff(grid_size,valves_dict, valid_vids)\n",
    "\n",
    "    seg_sum = SegmentSummary(segments,mtx_diff,num_closed_pipes)\n",
    "    direct,unintend = seg_sum.pipe_iso_consequences(num_nodes,valid_pids)\n",
    "    tot = direct + unintend \n",
    "    print (np.mean(direct), np.mean(unintend), np.mean(tot))\n",
    "\n",
    "# seg_sum.segment_graph"
   ]
  },
  {
   "cell_type": "code",
   "execution_count": 16,
   "metadata": {},
   "outputs": [
    {
     "name": "stdout",
     "output_type": "stream",
     "text": [
      "1.7285714285714286 0.0 1.7285714285714286\n"
     ]
    }
   ],
   "source": []
  },
  {
   "cell_type": "code",
   "execution_count": 230,
   "metadata": {},
   "outputs": [
    {
     "data": {
      "image/png": "[encoded data removed]",
      "text/plain": [
       "<Figure size 432x288 with 1 Axes>"
      ]
     },
     "metadata": {
      "needs_background": "light"
     },
     "output_type": "display_data"
    }
   ],
   "source": [
    "import matplotlib\n",
    "import matplotlib.pyplot as plt\n",
    "\n",
    "\n",
    "# plt.plot(fail_rates, topo_report5[2], label=\"dense (cr = 0.4)\", linewidth=2)\n",
    "plt.bar(list(valid_pids), direct, label=\"direct\")\n",
    "plt.bar(list(valid_pids), unintend, label=\"unintend\")\n",
    "# plt.bar(ids, tot[num_nodes:], label=\"tot\")\n",
    "\n",
    "# # plt.plot(fail_rates, topo_report4[2], label=\"tree-like\", linewidth=2)\n",
    "plt.xlabel('pid')\n",
    "plt.ylabel('# of components')\n",
    "# # plt.xlim(left = 0, right=0.5)\n",
    "plt.ylim(0,20)\n",
    "plt.legend()\n",
    "plt.show()"
   ]
  },
  {
   "cell_type": "code",
   "execution_count": 636,
   "metadata": {},
   "outputs": [
    {
     "data": {
      "image/png": "[encoded data removed]",
      "text/plain": [
       "<Figure size 432x288 with 1 Axes>"
      ]
     },
     "metadata": {
      "needs_background": "light"
     },
     "output_type": "display_data"
    }
   ],
   "source": [
    "import matplotlib\n",
    "import matplotlib.pyplot as plt\n",
    "\n",
    "num_nodes =  grid_size*grid_size\n",
    "num_pipes = len(direct)-num_nodes\n",
    "ids = range(num_pipes)\n",
    "\n",
    "\n",
    "# plt.plot(fail_rates, topo_report5[2], label=\"dense (cr = 0.4)\", linewidth=2)\n",
    "plt.bar(ids, direct[num_nodes:], label=\"direct\")\n",
    "plt.bar(ids, unintend[num_nodes:], label=\"unintend\")\n",
    "\n",
    "# # plt.plot(fail_rates, topo_report4[2], label=\"tree-like\", linewidth=2)\n",
    "plt.xlabel('pids ')\n",
    "plt.ylabel('# of components')\n",
    "# # plt.xlim(left = 0, right=0.5)\n",
    "# # plt.ylim(0,50)\n",
    "plt.legend()\n",
    "plt.show()"
   ]
  },
  {
   "cell_type": "code",
   "execution_count": 106,
   "metadata": {},
   "outputs": [],
   "source": [
    "num_test = 15\n",
    "num_simulation = 100\n",
    "fail_rates = np.linspace(0, 1, num=num_test)\n",
    "\n",
    "\n"
   ]
  },
  {
   "cell_type": "code",
   "execution_count": 107,
   "metadata": {},
   "outputs": [],
   "source": [
    "sim_report_topo = partial(generate_sim_report_topo,valve_register,valid_vids,\n",
    "                          num_simulation)\n",
    "reports = pool.map(sim_report_topo,fail_rates)\n",
    "\n"
   ]
  },
  {
   "cell_type": "code",
   "execution_count": 53,
   "metadata": {},
   "outputs": [],
   "source": [
    "topo_report0 = get_simulation_results(reports,trivial_pids)"
   ]
  },
  {
   "cell_type": "code",
   "execution_count": 60,
   "metadata": {},
   "outputs": [],
   "source": [
    "topo_report1 = get_simulation_results(reports,trivial_pids)"
   ]
  },
  {
   "cell_type": "code",
   "execution_count": 68,
   "metadata": {},
   "outputs": [],
   "source": [
    "topo_report2 = get_simulation_results(reports,trivial_pids)"
   ]
  },
  {
   "cell_type": "code",
   "execution_count": 77,
   "metadata": {},
   "outputs": [],
   "source": [
    "topo_report3 = get_simulation_results(reports,trivial_pids)"
   ]
  },
  {
   "cell_type": "code",
   "execution_count": 89,
   "metadata": {},
   "outputs": [],
   "source": [
    "topo_report4 = get_simulation_results(reports,trivial_pids)"
   ]
  },
  {
   "cell_type": "code",
   "execution_count": 108,
   "metadata": {},
   "outputs": [],
   "source": [
    "topo_report5 = get_simulation_results(reports,trivial_pids)"
   ]
  },
  {
   "cell_type": "code",
   "execution_count": 110,
   "metadata": {},
   "outputs": [
    {
     "data": {
      "image/png": "[encoded data removed]",
      "text/plain": [
       "<Figure size 432x288 with 1 Axes>"
      ]
     },
     "metadata": {
      "needs_background": "light"
     },
     "output_type": "display_data"
    }
   ],
   "source": [
    "import matplotlib\n",
    "import matplotlib.pyplot as plt\n",
    "\n",
    "# plt.plot(fail_rates, topo_report5[2], label=\"dense (cr = 0.4)\", linewidth=2)\n",
    "plt.plot(fail_rates, topo_report0[2], label=\"dense (cr = 0.4)\", linewidth=2)\n",
    "plt.plot(fail_rates, topo_report1[2], label=\"mesh (cr = 0)\", linewidth=2)\n",
    "plt.plot(fail_rates, topo_report2[2], label=\"sparse (moderate )\", linewidth=2)\n",
    "plt.plot(fail_rates, topo_report3[2], label=\"tree-like\", linewidth=2)\n",
    "# plt.plot(fail_rates, topo_report4[2], label=\"tree-like\", linewidth=2)\n",
    "plt.xlabel('Valve failure rate ')\n",
    "plt.ylabel('Ave # pipes/ largest segment')\n",
    "# plt.xlim(left = 0, right=0.5)\n",
    "# plt.ylim(0,50)\n",
    "plt.legend()\n",
    "plt.show()"
   ]
  },
  {
   "cell_type": "code",
   "execution_count": 111,
   "metadata": {},
   "outputs": [
    {
     "data": {
      "text/plain": [
       "<matplotlib.legend.Legend at 0x7fcfe8116198>"
      ]
     },
     "execution_count": 111,
     "metadata": {},
     "output_type": "execute_result"
    },
    {
     "data": {
      "image/png": "[encoded data removed]",
      "text/plain": [
       "<Figure size 432x288 with 1 Axes>"
      ]
     },
     "metadata": {
      "needs_background": "light"
     },
     "output_type": "display_data"
    }
   ],
   "source": [
    "plt.plot(fail_rates, topo_report0[0], label=\"dense (cr = 0.4)\", linewidth=2)\n",
    "plt.plot(fail_rates, topo_report1[0], label=\"mesh (cr = 0)\", linewidth=2)\n",
    "plt.plot(fail_rates, topo_report2[0], label=\"sparse (moderate )\", linewidth=2)\n",
    "plt.plot(fail_rates, topo_report3[0], label=\"tree-like\", linewidth=2)\n",
    "# plt.plot(fail_rates, topo_report4[0], label=\"tree-like\", linewidth=2)\n",
    "plt.xlabel('Valve failure rate ')\n",
    "plt.ylabel('# segments with multiple pipes')\n",
    "plt.legend()\n",
    "# plt.savefig('./results/num_notrivial_segs.png',dpi=300, bbox_inches='tight')"
   ]
  },
  {
   "cell_type": "code",
   "execution_count": 59,
   "metadata": {},
   "outputs": [
    {
     "data": {
      "text/plain": [
       "([0.0,\n",
       "  1.77,\n",
       "  7.04,\n",
       "  14.55,\n",
       "  23.11,\n",
       "  32.04,\n",
       "  40.2,\n",
       "  47.08,\n",
       "  49.89,\n",
       "  48.8,\n",
       "  43.43,\n",
       "  33.72,\n",
       "  19.23,\n",
       "  6.19,\n",
       "  1.0],\n",
       " [1.0,\n",
       "  1.0075208990487474,\n",
       "  1.0320895613170462,\n",
       "  1.0727880461118073,\n",
       "  1.1334847726842898,\n",
       "  1.2178797023163983,\n",
       "  1.3398436512514784,\n",
       "  1.5188837191031306,\n",
       "  1.7770845495050183,\n",
       "  2.171025402453309,\n",
       "  2.848497693549553,\n",
       "  4.242832953723447,\n",
       "  8.02486087255166,\n",
       "  27.775231190378253,\n",
       "  246.0],\n",
       " [1.0,\n",
       "  1.95,\n",
       "  2.47,\n",
       "  3.18,\n",
       "  4.11,\n",
       "  5.14,\n",
       "  6.42,\n",
       "  8.33,\n",
       "  11.2,\n",
       "  16.56,\n",
       "  25.8,\n",
       "  44.83,\n",
       "  93.48,\n",
       "  196.03,\n",
       "  246.0])"
      ]
     },
     "execution_count": 59,
     "metadata": {},
     "output_type": "execute_result"
    }
   ],
   "source": [
    "topo_report3"
   ]
  },
  {
   "cell_type": "code",
   "execution_count": null,
   "metadata": {},
   "outputs": [],
   "source": []
  }
 ],
 "metadata": {
  "kernelspec": {
   "display_name": "Python 3",
   "language": "python",
   "name": "python3"
  },
  "language_info": {
   "codemirror_mode": {
    "name": "ipython",
    "version": 3
   },
   "file_extension": ".py",
   "mimetype": "text/x-python",
   "name": "python",
   "nbconvert_exporter": "python",
   "pygments_lexer": "ipython3",
   "version": "3.7.3"
  }
 },
 "nbformat": 4,
 "nbformat_minor": 2
}
